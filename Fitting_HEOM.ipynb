{
 "cells": [
  {
   "cell_type": "code",
   "execution_count": 1,
   "id": "cb83932f",
   "metadata": {},
   "outputs": [],
   "source": [
    "from qutip import *\n",
    "import numpy as np"
   ]
  },
  {
   "cell_type": "code",
   "execution_count": 2,
   "id": "3e389834",
   "metadata": {},
   "outputs": [],
   "source": [
    "# Defining the system Hamiltonian\n",
    "eps = 0.2    # Energy of the 2-level system.\n",
    "Del = 0   # Tunnelling term\n",
    "Hsys = 0.5 * eps * sigmaz() + 0.5 * Del * sigmax()\n",
    "# Initial state of the system.\n",
    "rho0 = basis(2, 0) * basis(2, 0).dag()\n",
    "tlist=np.linspace(0,10,1000)"
   ]
  },
  {
   "cell_type": "markdown",
   "id": "45b970e7-5064-479a-9450-48a533748716",
   "metadata": {},
   "source": [
    "## Spectral density fitting"
   ]
  },
  {
   "cell_type": "code",
   "execution_count": 3,
   "id": "4d63e22e",
   "metadata": {},
   "outputs": [],
   "source": [
    "w = np.linspace(0, 20, 20000)\n",
    "def ohmic_spectral_density(w, alpha, wc):\n",
    "    \"\"\" The Ohmic bath spectral density as a function of w\n",
    "        (and the bath parameters).\n",
    "    \"\"\"\n",
    "    return w * alpha * np.e**(-w / wc)"
   ]
  },
  {
   "cell_type": "code",
   "execution_count": 4,
   "id": "3dac107b-86ff-4b6c-9662-a726080c617a",
   "metadata": {},
   "outputs": [],
   "source": [
    "alpha=0.05\n",
    "T=1\n",
    "wc=0.5"
   ]
  },
  {
   "cell_type": "code",
   "execution_count": 5,
   "id": "c9aa3205",
   "metadata": {},
   "outputs": [],
   "source": [
    "J=ohmic_spectral_density(w,alpha,wc)"
   ]
  },
  {
   "cell_type": "code",
   "execution_count": 6,
   "id": "ca762b08",
   "metadata": {},
   "outputs": [],
   "source": [
    "obp=heom.FitSpectral(T, sigmax(), Nk=4)"
   ]
  },
  {
   "cell_type": "code",
   "execution_count": 7,
   "id": "0b9dbb68-63a8-45fe-b8cc-eaca06211e57",
   "metadata": {},
   "outputs": [],
   "source": [
    "obp.get_fit(J,w,final_rmse=9e-6)"
   ]
  },
  {
   "cell_type": "code",
   "execution_count": 8,
   "id": "c8349e53-001f-4ee5-80ed-fc03bd08e132",
   "metadata": {},
   "outputs": [
    {
     "name": "stdout",
     "output_type": "stream",
     "text": [
      "10.0%. Run time:   0.16s. Est. time left: 00:00:00:01\n",
      "20.0%. Run time:   0.24s. Est. time left: 00:00:00:00\n",
      "30.0%. Run time:   0.34s. Est. time left: 00:00:00:00\n",
      "40.0%. Run time:   0.41s. Est. time left: 00:00:00:00\n",
      "50.1%. Run time:   0.50s. Est. time left: 00:00:00:00\n",
      "60.1%. Run time:   0.57s. Est. time left: 00:00:00:00\n",
      "70.1%. Run time:   0.66s. Est. time left: 00:00:00:00\n",
      "80.1%. Run time:   0.74s. Est. time left: 00:00:00:00\n",
      "90.1%. Run time:   0.83s. Est. time left: 00:00:00:00\n",
      "100.0%. Run time:   0.92s. Est. time left: 00:00:00:00\n",
      "Total run time:   0.92s\n"
     ]
    }
   ],
   "source": [
    "options = {'nsteps':15000, 'store_states':True, 'rtol':1e-12, 'atol':1e-12, 'method':\"bdf\"}\n",
    "HEOM_spectral_fit = heom.HEOMSolver(Hsys, obp.Bath_spec, max_depth=4, options=options,)\n",
    "result_spectral=HEOM_spectral_fit.run(rho0,tlist)"
   ]
  },
  {
   "cell_type": "code",
   "execution_count": 9,
   "id": "ba8ad1ba",
   "metadata": {},
   "outputs": [
    {
     "name": "stdout",
     "output_type": "stream",
     "text": [
      "Results of the fitting the Spectral density with 4 terms: \n",
      " \n",
      " Parameters|   lam    |  gamma   |   w0 \n",
      " 1         | 7.67e-02 | 3.21e-01 |5.00e-02 \n",
      " 2         |-8.19e-03 | 2.15e+00 |2.04e+00 \n",
      " 3         |-7.58e-02 | 3.20e-01 |5.31e-02 \n",
      " 4         | 1.52e-02 | 1.13e+00 |5.01e-02 \n",
      " \n",
      "A  normalized RMSE of  2.28e-06 was obtained for the Spectral density \n",
      " The current fit took  31.700378 seconds\n"
     ]
    }
   ],
   "source": [
    "obp.summary()"
   ]
  },
  {
   "cell_type": "markdown",
   "id": "a68fa018-26b0-4a38-9298-f4f54dccc7c1",
   "metadata": {},
   "source": [
    "## Correlation Function Fitting"
   ]
  },
  {
   "cell_type": "code",
   "execution_count": 10,
   "id": "e1878268-b61c-4209-b86b-e1996a918ce4",
   "metadata": {},
   "outputs": [],
   "source": [
    "from mpmath import mp\n",
    "alpha=0.05\n",
    "T=1\n",
    "wc=0.5"
   ]
  },
  {
   "cell_type": "code",
   "execution_count": 11,
   "id": "75f32f68-9729-462f-b168-02b730dd970f",
   "metadata": {},
   "outputs": [],
   "source": [
    "def ohmic_correlation(t, alpha, wc, beta, s=1):\n",
    "    \"\"\" The Ohmic bath correlation function as a function of t\n",
    "        (and the bath parameters).\n",
    "    \"\"\"\n",
    "    corr = (\n",
    "        (1 / np.pi) * alpha * wc**(1 - s) * beta**(-(s + 1)) * mp.gamma(s + 1)\n",
    "    )\n",
    "    z1_u = (1 + beta * wc - 1.0j * wc * t) / (beta * wc)\n",
    "    z2_u = (1 + 1.0j * wc * t) / (beta * wc)\n",
    "    # Note: the arguments to zeta should be in as high precision as possible.\n",
    "    # See http://mpmath.org/doc/current/basics.html#providing-correct-input\n",
    "    return np.array([\n",
    "        complex(corr * (mp.zeta(s + 1, u1) + mp.zeta(s + 1, u2)))\n",
    "        for u1, u2 in zip(z1_u, z2_u)\n",
    "    ], dtype=np.complex128)"
   ]
  },
  {
   "cell_type": "code",
   "execution_count": 12,
   "id": "ba2d7d9a-cebf-4468-a7c7-2479953a73b5",
   "metadata": {},
   "outputs": [],
   "source": [
    "C=ohmic_correlation(tlist,alpha,wc,1/T)"
   ]
  },
  {
   "cell_type": "code",
   "execution_count": 13,
   "id": "eac8b815",
   "metadata": {},
   "outputs": [],
   "source": [
    "obp2=heom.FitCorr(sigmax())"
   ]
  },
  {
   "cell_type": "code",
   "execution_count": 14,
   "id": "af7df643-faab-4a60-aaa2-ec423badf3a4",
   "metadata": {},
   "outputs": [],
   "source": [
    "obp2.fit_correlation(tlist,C,final_rmse=8e-5)"
   ]
  },
  {
   "cell_type": "code",
   "execution_count": 15,
   "id": "551d18e6",
   "metadata": {},
   "outputs": [
    {
     "name": "stdout",
     "output_type": "stream",
     "text": [
      "Fit correlation class instance: \n",
      " \n",
      "\n",
      "Results of the fitting the Real Part with 3 terms:                |\t Results of the fitting the Imaginary Part with 4 terms:             \n",
      "                                                                  |                                                                      \n",
      " Parameters|   lam    |  gamma   |   w0                           | \t Parameters|   lam    |  gamma   |   w0                             \n",
      " 1         | 3.54e-03 |-1.81e-01 |3.78e-14                        |\t 1         |-1.29e-02 |-8.57e-01 |3.44e-01                           \n",
      " 2         |-6.46e-03 |-2.07e+00 |1.28e+00                        | \t 2         | 1.17e-03 |-2.15e+00 |2.33e+00                          \n",
      " 3         | 1.95e-02 |-6.56e-01 |8.73e-11                        | \t 3         |-1.89e-03 |-1.01e+00 |1.04e+00                          \n",
      "                                                                  | \t 4         |-1.29e-02 |-3.93e-01 |2.36e-02                          \n",
      "                                                                  |                                                                      \n",
      "  A  normalized RMSE of  3.21e-06 was obtained for the real part  | \t A  normalized RMSE of 2.23e-06 was obtained for the imaginary part \n",
      "\t \t \t \t \t \t  The current fit took  9.119783 seconds\n"
     ]
    }
   ],
   "source": [
    "obp2.summary()"
   ]
  },
  {
   "cell_type": "code",
   "execution_count": 16,
   "id": "ee42d781-9da8-48ce-86e6-79b9c3522864",
   "metadata": {},
   "outputs": [
    {
     "name": "stdout",
     "output_type": "stream",
     "text": [
      "10.0%. Run time:   0.04s. Est. time left: 00:00:00:00\n",
      "20.0%. Run time:   0.06s. Est. time left: 00:00:00:00\n",
      "30.0%. Run time:   0.08s. Est. time left: 00:00:00:00\n",
      "40.0%. Run time:   0.11s. Est. time left: 00:00:00:00\n",
      "50.1%. Run time:   0.13s. Est. time left: 00:00:00:00\n",
      "60.1%. Run time:   0.16s. Est. time left: 00:00:00:00\n",
      "70.1%. Run time:   0.18s. Est. time left: 00:00:00:00\n",
      "80.1%. Run time:   0.21s. Est. time left: 00:00:00:00\n",
      "90.1%. Run time:   0.23s. Est. time left: 00:00:00:00\n",
      "100.0%. Run time:   0.26s. Est. time left: 00:00:00:00\n",
      "Total run time:   0.26s\n"
     ]
    }
   ],
   "source": [
    "options = {'nsteps':15000, 'store_states':True, 'rtol':1e-12, 'atol':1e-12, 'method':\"bdf\"}\n",
    "HEOM_corr_fit = heom.HEOMSolver(Hsys, obp2.Bath_corr, max_depth=4, options=options,)\n",
    "result_corr=HEOM_corr_fit.run(rho0,tlist)"
   ]
  },
  {
   "cell_type": "markdown",
   "id": "5f8af268-5059-46a7-9d24-9a07a8a05d7b",
   "metadata": {},
   "source": [
    "# Comparison between fits"
   ]
  },
  {
   "cell_type": "code",
   "execution_count": 17,
   "id": "2f29bd39-5a12-48f5-a78f-50a621b650eb",
   "metadata": {},
   "outputs": [],
   "source": [
    "def projection(result,i,j):\n",
    "    return [result.states[k][i,j] for k in range(len(result.states))]"
   ]
  },
  {
   "cell_type": "code",
   "execution_count": 18,
   "id": "930b28d4-90dd-4c8d-9568-20b33dde6fa7",
   "metadata": {},
   "outputs": [],
   "source": [
    "import matplotlib.pyplot as plt"
   ]
  },
  {
   "cell_type": "code",
   "execution_count": 19,
   "id": "fea8022a-02f5-4043-871f-da8048a598b7",
   "metadata": {},
   "outputs": [
    {
     "name": "stderr",
     "output_type": "stream",
     "text": [
      "/home/mcditoos/anaconda3/envs/qutip-dev/lib/python3.12/site-packages/matplotlib/cbook.py:1699: ComplexWarning: Casting complex values to real discards the imaginary part\n",
      "  return math.isfinite(val)\n",
      "/home/mcditoos/anaconda3/envs/qutip-dev/lib/python3.12/site-packages/matplotlib/cbook.py:1345: ComplexWarning: Casting complex values to real discards the imaginary part\n",
      "  return np.asarray(x, float)\n"
     ]
    },
    {
     "data": {
      "image/png": "[encoded data removed]",
      "text/plain": [
       "<Figure size 640x480 with 1 Axes>"
      ]
     },
     "metadata": {},
     "output_type": "display_data"
    }
   ],
   "source": [
    "plt.plot(tlist,projection(result_corr,0,0))\n",
    "plt.plot(tlist,projection(result_spectral,0,0),color='k')\n",
    "plt.xlabel('t')\n",
    "plt.ylabel(r'$\\rho_{11}$')\n",
    "plt.show()"
   ]
  },
  {
   "cell_type": "code",
   "execution_count": 20,
   "id": "bd2e4af7",
   "metadata": {},
   "outputs": [],
   "source": [
    "def ohmic_power_spectrum(w, alpha, wc, beta):\n",
    "    \"\"\" The Ohmic bath power spectrum as a function of w\n",
    "        (and the bath parameters).\n",
    "    \"\"\"\n",
    "    return (\n",
    "        w * alpha * np.e**(-abs(w) / wc) *\n",
    "        ((1 / (np.e**(w * beta) - 1)) + 1) * 2\n",
    "    )"
   ]
  },
  {
   "cell_type": "code",
   "execution_count": 21,
   "id": "86ef45f2-c782-4075-becb-2617381ff831",
   "metadata": {},
   "outputs": [
    {
     "name": "stderr",
     "output_type": "stream",
     "text": [
      "/home/mcditoos/anaconda3/envs/qutip-dev/lib/python3.12/site-packages/matplotlib/collections.py:194: ComplexWarning: Casting complex values to real discards the imaginary part\n",
      "  offsets = np.asanyarray(offsets, float)\n"
     ]
    },
    {
     "data": {
      "image/png": "[encoded data removed]",
      "text/plain": [
       "<Figure size 640x480 with 1 Axes>"
      ]
     },
     "metadata": {},
     "output_type": "display_data"
    }
   ],
   "source": [
    "w=np.linspace(-10,10,1000)\n",
    "plt.plot(w,ohmic_power_spectrum(w,alpha,wc,1/T),color='green')\n",
    "plt.scatter(w,obp2.corr_spectrum_approx(w),color='red',s=4)\n",
    "plt.scatter(w,obp.spec_spectrum_approx(w),color='k',s=4)\n",
    "plt.ylabel(r'$P( \\omega )$')\n",
    "plt.xlabel(r'$\\omega$')\n",
    "plt.show()"
   ]
  },
  {
   "cell_type": "code",
   "execution_count": null,
   "id": "9db0ba4d",
   "metadata": {},
   "outputs": [],
   "source": []
  }
 ],
 "metadata": {
  "kernelspec": {
   "display_name": "Python 3 (ipykernel)",
   "language": "python",
   "name": "python3"
  },
  "language_info": {
   "codemirror_mode": {
    "name": "ipython",
    "version": 3
   },
   "file_extension": ".py",
   "mimetype": "text/x-python",
   "name": "python",
   "nbconvert_exporter": "python",
   "pygments_lexer": "ipython3",
   "version": "3.12.0"
  }
 },
 "nbformat": 4,
 "nbformat_minor": 5
}
