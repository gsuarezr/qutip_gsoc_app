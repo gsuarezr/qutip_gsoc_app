{
 "cells": [
  {
   "cell_type": "markdown",
   "metadata": {},
   "source": [
    "### Automatic Generation of Pseudomodes\n",
    "\n",
    "We assume we have an environment with a multi-exponential auto-correlation function\n",
    "$$ C(t) = \\sum_k a_k e^{-\\nu_k t} . $$\n",
    "The influence superoperator (\"$\\mathbf W(\\tau)$\" in [PM 2024]) has the form\n",
    "$$ \\mathbf W(\\tau) = \\sum_k \\biggl( -\\int_0^\\tau d\\tau'\\, \\tilde Q(\\tau)^\\times \\tilde Q(\\tau')^\\rightarrow\\, a_k e^{-\\nu_k (\\tau - \\tau')} + \\int_0^\\tau d\\tau'\\, \\tilde Q(\\tau)^\\times \\tilde Q(\\tau')^\\leftarrow\\, \\bar a_k e^{-\\bar\\nu_k (\\tau - \\tau')} \\biggr) . $$\n",
    "\n",
    "We make the ansatz of a pseudomode that has the time evolution\n",
    "$$ \\partial_t \\rho = \\text{[other contributions]} - i\\Omega\\, [b^\\dagger b, \\rho] + \\Gamma\\, \\bigl[ b \\rho b^\\dagger - \\{b^\\dagger b, \\rho\\} / 2 \\bigr] - i\\lambda\\, \\bigl[ (1 - i\\kappa )\\, Q X \\rho + 2i\\kappa\\, Q \\rho b^\\dagger \\bigr] + i\\lambda\\, \\bigl[ (1 + i\\kappa )\\, \\rho Q X - 2i\\kappa\\, b \\rho Q \\bigr] , $$\n",
    "based on [Park 2024].\n",
    "Here, $Q$ is the system coupling operator, $b$ the pseudomode ladder operator and $X = b + b^\\dagger$.\n",
    "$\\Omega$ and $\\Gamma$ are the frequency and the decay rate of the pseudomode.\n",
    "For $\\kappa = 0$ this reduces to a \"regular\" pseudomode with coupling constant $\\lambda$.\n",
    "After a tedious calculation, it turns out that this pseudomode makes the following contribution to the influence superoperator:\n",
    "$$ \\mathbf W_{\\text{PM}}(\\tau) = \\lambda^2 \\int_0^\\tau d\\tau'\\, \\tilde Q(\\tau)^\\times \\tilde Q(\\tau')^\\rightarrow\\, (\\kappa+i)^2\\, e^{-(\\Gamma/2 + i\\Omega) t} - \\lambda^2 \\int_0^\\tau d\\tau'\\, \\tilde Q(\\tau)^\\times \\tilde Q(\\tau')^\\leftarrow\\, (\\kappa-i)^2\\, e^{-(\\Gamma/2 - i\\Omega) t} . $$\n",
    "\n",
    "Comparing both expressions, we must satisfy $\\nu_k = \\Gamma / 2 + i\\Omega, \\bar\\nu_k = \\Gamma / 2 - i\\Omega$ and $a_k = -\\lambda^2 (\\kappa + i)^2, \\bar a_k = -\\lambda^2 (\\kappa - i)^2$. Assuming all the parameters are real, this leads to:\n",
    "\\begin{align*}\n",
    "    \\Gamma &= 2\\Re(\\nu_k) , \\\\\n",
    "    \\Omega &= \\Im(\\nu_k) , \\\\\n",
    "    \\kappa &= \\frac{\\Re(a_k) \\pm |a_k|}{\\Im(a_k)} , \\\\\n",
    "    \\lambda &= \\pm \\sqrt{-\\Im(a_k) / (2\\kappa)} .\n",
    "\\end{align*}\n",
    "There seem to be two choices for $\\kappa$. Probably we choose the one with the smaller absolute value?"
   ]
  },
  {
   "cell_type": "code",
   "execution_count": 1,
   "metadata": {},
   "outputs": [],
   "source": [
    "from collections.abc import Iterable\n",
    "\n",
    "import numpy as np\n",
    "import matplotlib.pyplot as plt\n",
    "\n",
    "import qutip as qt\n",
    "from qutip.solver.heom import BosonicBath, HEOMSolver\n",
    "\n",
    "def _tensor(dimensions, opdict, default=None):\n",
    "    operators = []\n",
    "    for k, dim_k in enumerate(dimensions):\n",
    "        if k in opdict:\n",
    "            operators.append(opdict[k])\n",
    "        elif default is not None:\n",
    "            operators.append(default(dim_k))\n",
    "        else:\n",
    "            operators.append(qt.qeye(dim_k))\n",
    "    return qt.tensor(*operators)\n",
    "\n",
    "def generate_pseudomodes(\n",
    "    Hsys: qt.Qobj, Q: qt.Qobj, env: qt.ExponentialBosonicEnvironment,\n",
    "    fock_cutoff: (int | list[int]) = 4\n",
    ") -> tuple[qt.Qobj, list]:\n",
    "    # cutoff can be single number or list of numbers corresponding to the exponents\n",
    "    if isinstance(fock_cutoff, Iterable):\n",
    "        fock_cutoff = list(fock_cutoff)\n",
    "    else:\n",
    "        fock_cutoff = [fock_cutoff] * len(env.exponents)\n",
    "\n",
    "    dimensions = [Hsys.dims[0]] + fock_cutoff\n",
    "    Hsys_full = _tensor(dimensions, {0: Hsys})\n",
    "    Q_full = _tensor(dimensions, {0: Q})\n",
    "\n",
    "    liouvillian = qt.liouvillian(Hsys_full)\n",
    "\n",
    "    for k, exponent in enumerate(env.exponents):\n",
    "        # make PM operators\n",
    "        b = _tensor(dimensions, {k + 1: qt.destroy(dimensions[k + 1])})\n",
    "        bd = b.dag()\n",
    "        X = b + bd\n",
    "\n",
    "        # determine PM parameters from exponent\n",
    "        a = exponent.coefficient\n",
    "        nu = exponent.exponent\n",
    "        Gamma = 2 * np.real(nu)\n",
    "        Omega = np.imag(nu)\n",
    "        if np.imag(a) == 0:\n",
    "            kappa = 0\n",
    "            lam = np.sqrt(a + 0j)\n",
    "        elif np.real(a) > 0:\n",
    "            kappa = (np.real(a) - np.abs(a)) / np.imag(a)\n",
    "            lam = np.sqrt(-np.imag(a) / 2 / kappa)\n",
    "        else:\n",
    "            kappa = (np.real(a) + np.abs(a)) / np.imag(a)\n",
    "            lam = np.sqrt(-np.imag(a) / 2 / kappa)\n",
    "\n",
    "        np.testing.assert_allclose(a, -lam**2 * (kappa + 1j)**2)\n",
    "        np.testing.assert_allclose(np.conj(a), -lam**2 * (kappa - 1j)**2)\n",
    "\n",
    "        # construct this PM's contribution to liouvillian\n",
    "        liouvillian += (\n",
    "            qt.liouvillian(Omega * bd * b) + Gamma * qt.lindblad_dissipator(b)\n",
    "            - lam * (1j + kappa) * qt.spre(Q_full * X) + 2 * kappa * lam * qt.sprepost(Q_full, bd)\n",
    "            + lam * (1j - kappa) * qt.spost(Q_full * X) + 2 * kappa * lam * qt.sprepost(b, Q_full)\n",
    "        )\n",
    "\n",
    "    return liouvillian, dimensions\n"
   ]
  },
  {
   "cell_type": "markdown",
   "metadata": {},
   "source": [
    "### Example 1 (Underdamped)"
   ]
  },
  {
   "cell_type": "code",
   "execution_count": 2,
   "metadata": {},
   "outputs": [],
   "source": [
    "Delta = 1\n",
    "lam = 0.2\n",
    "gam = 0.25\n",
    "omega0 = 1\n",
    "beta = 1\n",
    "\n",
    "tlist = np.linspace(0, 40, 250)\n",
    "\n",
    "Hsys = Delta * qt.sigmax() / 2\n",
    "Q = qt.sigmaz()\n",
    "initial = qt.qeye_like(Hsys).unit()\n",
    "\n",
    "env = qt.UnderDampedEnvironment(1 / beta, lam, gam, omega0)\n",
    "exp_env = env.approx_by_matsubara(Nk=1)"
   ]
  },
  {
   "cell_type": "code",
   "execution_count": 3,
   "metadata": {},
   "outputs": [
    {
     "data": {
      "text/html": [
       "<div style=\"border: 2px solid grey; width: 600px\">\n",
       "  <div id=\"6a6a88b9-5d8b-44cb-b7aa-a8d552a55b9f\" style=\"background-color: rgba(121,195,106,0.75); width:0%\">&nbsp;</div>\n",
       "</div>\n",
       "<p id=\"8a4271f2-d34c-443a-988b-5c214eb591cf\"></p>\n"
      ],
      "text/plain": [
       "<IPython.core.display.HTML object>"
      ]
     },
     "metadata": {},
     "output_type": "display_data"
    },
    {
     "data": {
      "application/javascript": "$('div#6a6a88b9-5d8b-44cb-b7aa-a8d552a55b9f').width('10%');$('p#8a4271f2-d34c-443a-988b-5c214eb591cf').text('Elapsed time:   0.02s. Est. remaining time: 00:00:00:00.');",
      "text/plain": [
       "<IPython.core.display.Javascript object>"
      ]
     },
     "metadata": {},
     "output_type": "display_data"
    },
    {
     "data": {
      "application/javascript": "$('div#6a6a88b9-5d8b-44cb-b7aa-a8d552a55b9f').width('20%');$('p#8a4271f2-d34c-443a-988b-5c214eb591cf').text('Elapsed time:   0.08s. Est. remaining time: 00:00:00:00.');",
      "text/plain": [
       "<IPython.core.display.Javascript object>"
      ]
     },
     "metadata": {},
     "output_type": "display_data"
    },
    {
     "data": {
      "application/javascript": "$('div#6a6a88b9-5d8b-44cb-b7aa-a8d552a55b9f').width('30%');$('p#8a4271f2-d34c-443a-988b-5c214eb591cf').text('Elapsed time:   0.14s. Est. remaining time: 00:00:00:00.');",
      "text/plain": [
       "<IPython.core.display.Javascript object>"
      ]
     },
     "metadata": {},
     "output_type": "display_data"
    },
    {
     "data": {
      "application/javascript": "$('div#6a6a88b9-5d8b-44cb-b7aa-a8d552a55b9f').width('40%');$('p#8a4271f2-d34c-443a-988b-5c214eb591cf').text('Elapsed time:   0.21s. Est. remaining time: 00:00:00:00.');",
      "text/plain": [
       "<IPython.core.display.Javascript object>"
      ]
     },
     "metadata": {},
     "output_type": "display_data"
    },
    {
     "data": {
      "application/javascript": "$('div#6a6a88b9-5d8b-44cb-b7aa-a8d552a55b9f').width('50%');$('p#8a4271f2-d34c-443a-988b-5c214eb591cf').text('Elapsed time:   0.27s. Est. remaining time: 00:00:00:00.');",
      "text/plain": [
       "<IPython.core.display.Javascript object>"
      ]
     },
     "metadata": {},
     "output_type": "display_data"
    },
    {
     "data": {
      "application/javascript": "$('div#6a6a88b9-5d8b-44cb-b7aa-a8d552a55b9f').width('60%');$('p#8a4271f2-d34c-443a-988b-5c214eb591cf').text('Elapsed time:   0.35s. Est. remaining time: 00:00:00:00.');",
      "text/plain": [
       "<IPython.core.display.Javascript object>"
      ]
     },
     "metadata": {},
     "output_type": "display_data"
    },
    {
     "data": {
      "application/javascript": "$('div#6a6a88b9-5d8b-44cb-b7aa-a8d552a55b9f').width('70%');$('p#8a4271f2-d34c-443a-988b-5c214eb591cf').text('Elapsed time:   0.41s. Est. remaining time: 00:00:00:00.');",
      "text/plain": [
       "<IPython.core.display.Javascript object>"
      ]
     },
     "metadata": {},
     "output_type": "display_data"
    },
    {
     "data": {
      "application/javascript": "$('div#6a6a88b9-5d8b-44cb-b7aa-a8d552a55b9f').width('80%');$('p#8a4271f2-d34c-443a-988b-5c214eb591cf').text('Elapsed time:   0.48s. Est. remaining time: 00:00:00:00.');",
      "text/plain": [
       "<IPython.core.display.Javascript object>"
      ]
     },
     "metadata": {},
     "output_type": "display_data"
    },
    {
     "data": {
      "application/javascript": "$('div#6a6a88b9-5d8b-44cb-b7aa-a8d552a55b9f').width('90%');$('p#8a4271f2-d34c-443a-988b-5c214eb591cf').text('Elapsed time:   0.54s. Est. remaining time: 00:00:00:00.');",
      "text/plain": [
       "<IPython.core.display.Javascript object>"
      ]
     },
     "metadata": {},
     "output_type": "display_data"
    },
    {
     "data": {
      "application/javascript": "$('div#6a6a88b9-5d8b-44cb-b7aa-a8d552a55b9f').width('100%');$('p#8a4271f2-d34c-443a-988b-5c214eb591cf').text('Elapsed time:   0.61s. Est. remaining time: 00:00:00:00.');",
      "text/plain": [
       "<IPython.core.display.Javascript object>"
      ]
     },
     "metadata": {},
     "output_type": "display_data"
    },
    {
     "data": {
      "application/javascript": "$('div#6a6a88b9-5d8b-44cb-b7aa-a8d552a55b9f').width('100%');$('p#8a4271f2-d34c-443a-988b-5c214eb591cf').text('Elapsed time:   0.61s');",
      "text/plain": [
       "<IPython.core.display.Javascript object>"
      ]
     },
     "metadata": {},
     "output_type": "display_data"
    }
   ],
   "source": [
    "# HEOM solution\n",
    "solver = HEOMSolver(Hsys, BosonicBath.from_environment(exp_env, Q),\n",
    "                    max_depth=15, options={'progress_bar': 'html'})\n",
    "heom_result = solver.run(initial, tlist, e_ops=[Hsys])"
   ]
  },
  {
   "cell_type": "code",
   "execution_count": 4,
   "metadata": {},
   "outputs": [
    {
     "data": {
      "text/html": [
       "<div style=\"border: 2px solid grey; width: 600px\">\n",
       "  <div id=\"98ca00f2-52b5-43e4-b190-9f4b5bd859f1\" style=\"background-color: rgba(121,195,106,0.75); width:0%\">&nbsp;</div>\n",
       "</div>\n",
       "<p id=\"1e66dcfc-130a-4838-8b3b-a2ed659e8b73\"></p>\n"
      ],
      "text/plain": [
       "<IPython.core.display.HTML object>"
      ]
     },
     "metadata": {},
     "output_type": "display_data"
    },
    {
     "data": {
      "application/javascript": "$('div#98ca00f2-52b5-43e4-b190-9f4b5bd859f1').width('10%');$('p#1e66dcfc-130a-4838-8b3b-a2ed659e8b73').text('Elapsed time:   0.02s. Est. remaining time: 00:00:00:00.');",
      "text/plain": [
       "<IPython.core.display.Javascript object>"
      ]
     },
     "metadata": {},
     "output_type": "display_data"
    },
    {
     "data": {
      "application/javascript": "$('div#98ca00f2-52b5-43e4-b190-9f4b5bd859f1').width('20%');$('p#1e66dcfc-130a-4838-8b3b-a2ed659e8b73').text('Elapsed time:   0.05s. Est. remaining time: 00:00:00:00.');",
      "text/plain": [
       "<IPython.core.display.Javascript object>"
      ]
     },
     "metadata": {},
     "output_type": "display_data"
    },
    {
     "data": {
      "application/javascript": "$('div#98ca00f2-52b5-43e4-b190-9f4b5bd859f1').width('30%');$('p#1e66dcfc-130a-4838-8b3b-a2ed659e8b73').text('Elapsed time:   0.07s. Est. remaining time: 00:00:00:00.');",
      "text/plain": [
       "<IPython.core.display.Javascript object>"
      ]
     },
     "metadata": {},
     "output_type": "display_data"
    },
    {
     "data": {
      "application/javascript": "$('div#98ca00f2-52b5-43e4-b190-9f4b5bd859f1').width('40%');$('p#1e66dcfc-130a-4838-8b3b-a2ed659e8b73').text('Elapsed time:   0.10s. Est. remaining time: 00:00:00:00.');",
      "text/plain": [
       "<IPython.core.display.Javascript object>"
      ]
     },
     "metadata": {},
     "output_type": "display_data"
    },
    {
     "data": {
      "application/javascript": "$('div#98ca00f2-52b5-43e4-b190-9f4b5bd859f1').width('50%');$('p#1e66dcfc-130a-4838-8b3b-a2ed659e8b73').text('Elapsed time:   0.12s. Est. remaining time: 00:00:00:00.');",
      "text/plain": [
       "<IPython.core.display.Javascript object>"
      ]
     },
     "metadata": {},
     "output_type": "display_data"
    },
    {
     "data": {
      "application/javascript": "$('div#98ca00f2-52b5-43e4-b190-9f4b5bd859f1').width('60%');$('p#1e66dcfc-130a-4838-8b3b-a2ed659e8b73').text('Elapsed time:   0.15s. Est. remaining time: 00:00:00:00.');",
      "text/plain": [
       "<IPython.core.display.Javascript object>"
      ]
     },
     "metadata": {},
     "output_type": "display_data"
    },
    {
     "data": {
      "application/javascript": "$('div#98ca00f2-52b5-43e4-b190-9f4b5bd859f1').width('70%');$('p#1e66dcfc-130a-4838-8b3b-a2ed659e8b73').text('Elapsed time:   0.18s. Est. remaining time: 00:00:00:00.');",
      "text/plain": [
       "<IPython.core.display.Javascript object>"
      ]
     },
     "metadata": {},
     "output_type": "display_data"
    },
    {
     "data": {
      "application/javascript": "$('div#98ca00f2-52b5-43e4-b190-9f4b5bd859f1').width('80%');$('p#1e66dcfc-130a-4838-8b3b-a2ed659e8b73').text('Elapsed time:   0.21s. Est. remaining time: 00:00:00:00.');",
      "text/plain": [
       "<IPython.core.display.Javascript object>"
      ]
     },
     "metadata": {},
     "output_type": "display_data"
    },
    {
     "data": {
      "application/javascript": "$('div#98ca00f2-52b5-43e4-b190-9f4b5bd859f1').width('90%');$('p#1e66dcfc-130a-4838-8b3b-a2ed659e8b73').text('Elapsed time:   0.24s. Est. remaining time: 00:00:00:00.');",
      "text/plain": [
       "<IPython.core.display.Javascript object>"
      ]
     },
     "metadata": {},
     "output_type": "display_data"
    },
    {
     "data": {
      "application/javascript": "$('div#98ca00f2-52b5-43e4-b190-9f4b5bd859f1').width('100%');$('p#1e66dcfc-130a-4838-8b3b-a2ed659e8b73').text('Elapsed time:   0.26s. Est. remaining time: 00:00:00:00.');",
      "text/plain": [
       "<IPython.core.display.Javascript object>"
      ]
     },
     "metadata": {},
     "output_type": "display_data"
    },
    {
     "data": {
      "application/javascript": "$('div#98ca00f2-52b5-43e4-b190-9f4b5bd859f1').width('100%');$('p#1e66dcfc-130a-4838-8b3b-a2ed659e8b73').text('Elapsed time:   0.27s');",
      "text/plain": [
       "<IPython.core.display.Javascript object>"
      ]
     },
     "metadata": {},
     "output_type": "display_data"
    }
   ],
   "source": [
    "# PM solution\n",
    "pm_liouvillian, pm_dimensions = generate_pseudomodes(Hsys, Q, exp_env, fock_cutoff=[4, 4, 2])\n",
    "\n",
    "initial_full = _tensor(pm_dimensions, {0: initial}, default=qt.fock_dm)\n",
    "Hsys_full = _tensor(pm_dimensions, {0: Hsys})\n",
    "\n",
    "pm_result = qt.mesolve(pm_liouvillian, initial_full, tlist, e_ops=[Hsys_full],\n",
    "                       options={'progress_bar': 'html'})"
   ]
  },
  {
   "cell_type": "code",
   "execution_count": 5,
   "metadata": {},
   "outputs": [
    {
     "data": {
      "image/png": "[encoded data removed]",
      "text/plain": [
       "<Figure size 640x480 with 1 Axes>"
      ]
     },
     "metadata": {},
     "output_type": "display_data"
    }
   ],
   "source": [
    "plt.plot(tlist, pm_result.expect[0], label='PM')\n",
    "plt.plot(tlist, heom_result.expect[0], '--', label='HEOM')\n",
    "plt.legend()\n",
    "plt.show()"
   ]
  },
  {
   "cell_type": "markdown",
   "metadata": {},
   "source": [
    "### Example 2 (Overdamped, dynamical decoupling)"
   ]
  },
  {
   "cell_type": "code",
   "execution_count": 6,
   "metadata": {},
   "outputs": [],
   "source": [
    "# copied from https://github.com/pmenczel/Pseudomode-Examples/blob/main/example2.ipynb\n",
    "\n",
    "TLIST = np.linspace(0, 200, 1000)\n",
    "MAX_STEP = 1 / 40\n",
    "\n",
    "NUM_MATSUBARA = 3\n",
    "PM_CUTOFF = [3] * (NUM_MATSUBARA + 2)\n",
    "\n",
    "HEOM_CUTOFF = 6\n",
    "\n",
    "\n",
    "V = 1\n",
    "BETA = 10 / V\n",
    "GAMMA = 1e-2 * V\n",
    "LAMBDA = 1e-4 * V\n",
    "\n",
    "TAU_P = np.pi / (2 * V)\n",
    "DELTA_T = 10 / V\n",
    "TAU = DELTA_T + TAU_P\n",
    "\n",
    "\n",
    "def f(t):\n",
    "    return V * (np.mod(t, TAU) >= DELTA_T)\n",
    "\n",
    "Hsys = qt.QobjEvo([qt.sigmax(), f])\n",
    "Q = qt.sigmaz()\n",
    "psi0 = (qt.basis(2,1) + qt.basis(2,0)) / np.sqrt(2)\n",
    "initial = qt.ket2dm(psi0)\n",
    "\n",
    "env = qt.DrudeLorentzEnvironment(1 / BETA, LAMBDA, GAMMA)\n",
    "exp_env, _ = env.approx_by_matsubara(Nk=NUM_MATSUBARA)"
   ]
  },
  {
   "cell_type": "code",
   "execution_count": 7,
   "metadata": {},
   "outputs": [
    {
     "data": {
      "text/html": [
       "<div style=\"border: 2px solid grey; width: 600px\">\n",
       "  <div id=\"ff829e34-5d87-4ba7-93e4-3bc5ed1241b3\" style=\"background-color: rgba(121,195,106,0.75); width:0%\">&nbsp;</div>\n",
       "</div>\n",
       "<p id=\"6564c8ec-096b-4a2e-bd80-db2a22d89ca9\"></p>\n"
      ],
      "text/plain": [
       "<IPython.core.display.HTML object>"
      ]
     },
     "metadata": {},
     "output_type": "display_data"
    },
    {
     "data": {
      "application/javascript": "$('div#ff829e34-5d87-4ba7-93e4-3bc5ed1241b3').width('10%');$('p#6564c8ec-096b-4a2e-bd80-db2a22d89ca9').text('Elapsed time:   0.31s. Est. remaining time: 00:00:00:02.');",
      "text/plain": [
       "<IPython.core.display.Javascript object>"
      ]
     },
     "metadata": {},
     "output_type": "display_data"
    },
    {
     "data": {
      "application/javascript": "$('div#ff829e34-5d87-4ba7-93e4-3bc5ed1241b3').width('20%');$('p#6564c8ec-096b-4a2e-bd80-db2a22d89ca9').text('Elapsed time:   0.61s. Est. remaining time: 00:00:00:02.');",
      "text/plain": [
       "<IPython.core.display.Javascript object>"
      ]
     },
     "metadata": {},
     "output_type": "display_data"
    },
    {
     "data": {
      "application/javascript": "$('div#ff829e34-5d87-4ba7-93e4-3bc5ed1241b3').width('30%');$('p#6564c8ec-096b-4a2e-bd80-db2a22d89ca9').text('Elapsed time:   0.93s. Est. remaining time: 00:00:00:02.');",
      "text/plain": [
       "<IPython.core.display.Javascript object>"
      ]
     },
     "metadata": {},
     "output_type": "display_data"
    },
    {
     "data": {
      "application/javascript": "$('div#ff829e34-5d87-4ba7-93e4-3bc5ed1241b3').width('40%');$('p#6564c8ec-096b-4a2e-bd80-db2a22d89ca9').text('Elapsed time:   1.20s. Est. remaining time: 00:00:00:01.');",
      "text/plain": [
       "<IPython.core.display.Javascript object>"
      ]
     },
     "metadata": {},
     "output_type": "display_data"
    },
    {
     "data": {
      "application/javascript": "$('div#ff829e34-5d87-4ba7-93e4-3bc5ed1241b3').width('50%');$('p#6564c8ec-096b-4a2e-bd80-db2a22d89ca9').text('Elapsed time:   1.48s. Est. remaining time: 00:00:00:01.');",
      "text/plain": [
       "<IPython.core.display.Javascript object>"
      ]
     },
     "metadata": {},
     "output_type": "display_data"
    },
    {
     "data": {
      "application/javascript": "$('div#ff829e34-5d87-4ba7-93e4-3bc5ed1241b3').width('60%');$('p#6564c8ec-096b-4a2e-bd80-db2a22d89ca9').text('Elapsed time:   1.81s. Est. remaining time: 00:00:00:01.');",
      "text/plain": [
       "<IPython.core.display.Javascript object>"
      ]
     },
     "metadata": {},
     "output_type": "display_data"
    },
    {
     "data": {
      "application/javascript": "$('div#ff829e34-5d87-4ba7-93e4-3bc5ed1241b3').width('70%');$('p#6564c8ec-096b-4a2e-bd80-db2a22d89ca9').text('Elapsed time:   2.11s. Est. remaining time: 00:00:00:00.');",
      "text/plain": [
       "<IPython.core.display.Javascript object>"
      ]
     },
     "metadata": {},
     "output_type": "display_data"
    },
    {
     "data": {
      "application/javascript": "$('div#ff829e34-5d87-4ba7-93e4-3bc5ed1241b3').width('80%');$('p#6564c8ec-096b-4a2e-bd80-db2a22d89ca9').text('Elapsed time:   2.35s. Est. remaining time: 00:00:00:00.');",
      "text/plain": [
       "<IPython.core.display.Javascript object>"
      ]
     },
     "metadata": {},
     "output_type": "display_data"
    },
    {
     "data": {
      "application/javascript": "$('div#ff829e34-5d87-4ba7-93e4-3bc5ed1241b3').width('90%');$('p#6564c8ec-096b-4a2e-bd80-db2a22d89ca9').text('Elapsed time:   2.65s. Est. remaining time: 00:00:00:00.');",
      "text/plain": [
       "<IPython.core.display.Javascript object>"
      ]
     },
     "metadata": {},
     "output_type": "display_data"
    },
    {
     "data": {
      "application/javascript": "$('div#ff829e34-5d87-4ba7-93e4-3bc5ed1241b3').width('100%');$('p#6564c8ec-096b-4a2e-bd80-db2a22d89ca9').text('Elapsed time:   3.00s. Est. remaining time: 00:00:00:00.');",
      "text/plain": [
       "<IPython.core.display.Javascript object>"
      ]
     },
     "metadata": {},
     "output_type": "display_data"
    },
    {
     "data": {
      "application/javascript": "$('div#ff829e34-5d87-4ba7-93e4-3bc5ed1241b3').width('100%');$('p#6564c8ec-096b-4a2e-bd80-db2a22d89ca9').text('Elapsed time:   3.00s');",
      "text/plain": [
       "<IPython.core.display.Javascript object>"
      ]
     },
     "metadata": {},
     "output_type": "display_data"
    }
   ],
   "source": [
    "# HEOM solution\n",
    "solver = HEOMSolver(\n",
    "    Hsys, BosonicBath.from_environment(exp_env, Q),\n",
    "    max_depth=HEOM_CUTOFF, options={'progress_bar': 'html', 'method': 'vern9',\n",
    "                                    'rtol': 1e-12, 'atol': 1e-12,\n",
    "                                    'max_step': MAX_STEP, 'nsteps': 1500})\n",
    "heom_result = solver.run(initial, TLIST, e_ops=[qt.sigmax()])"
   ]
  },
  {
   "cell_type": "code",
   "execution_count": 8,
   "metadata": {},
   "outputs": [
    {
     "data": {
      "text/html": [
       "<div style=\"border: 2px solid grey; width: 600px\">\n",
       "  <div id=\"5af904f7-fb84-422a-aa63-658f791d4110\" style=\"background-color: rgba(121,195,106,0.75); width:0%\">&nbsp;</div>\n",
       "</div>\n",
       "<p id=\"143d57d3-3969-4657-9492-c1362807380b\"></p>\n"
      ],
      "text/plain": [
       "<IPython.core.display.HTML object>"
      ]
     },
     "metadata": {},
     "output_type": "display_data"
    },
    {
     "data": {
      "application/javascript": "$('div#5af904f7-fb84-422a-aa63-658f791d4110').width('10%');$('p#143d57d3-3969-4657-9492-c1362807380b').text('Elapsed time:   0.23s. Est. remaining time: 00:00:00:02.');",
      "text/plain": [
       "<IPython.core.display.Javascript object>"
      ]
     },
     "metadata": {},
     "output_type": "display_data"
    },
    {
     "data": {
      "application/javascript": "$('div#5af904f7-fb84-422a-aa63-658f791d4110').width('20%');$('p#143d57d3-3969-4657-9492-c1362807380b').text('Elapsed time:   0.45s. Est. remaining time: 00:00:00:01.');",
      "text/plain": [
       "<IPython.core.display.Javascript object>"
      ]
     },
     "metadata": {},
     "output_type": "display_data"
    },
    {
     "data": {
      "application/javascript": "$('div#5af904f7-fb84-422a-aa63-658f791d4110').width('30%');$('p#143d57d3-3969-4657-9492-c1362807380b').text('Elapsed time:   0.68s. Est. remaining time: 00:00:00:01.');",
      "text/plain": [
       "<IPython.core.display.Javascript object>"
      ]
     },
     "metadata": {},
     "output_type": "display_data"
    },
    {
     "data": {
      "application/javascript": "$('div#5af904f7-fb84-422a-aa63-658f791d4110').width('40%');$('p#143d57d3-3969-4657-9492-c1362807380b').text('Elapsed time:   0.91s. Est. remaining time: 00:00:00:01.');",
      "text/plain": [
       "<IPython.core.display.Javascript object>"
      ]
     },
     "metadata": {},
     "output_type": "display_data"
    },
    {
     "data": {
      "application/javascript": "$('div#5af904f7-fb84-422a-aa63-658f791d4110').width('50%');$('p#143d57d3-3969-4657-9492-c1362807380b').text('Elapsed time:   1.13s. Est. remaining time: 00:00:00:01.');",
      "text/plain": [
       "<IPython.core.display.Javascript object>"
      ]
     },
     "metadata": {},
     "output_type": "display_data"
    },
    {
     "data": {
      "application/javascript": "$('div#5af904f7-fb84-422a-aa63-658f791d4110').width('60%');$('p#143d57d3-3969-4657-9492-c1362807380b').text('Elapsed time:   1.34s. Est. remaining time: 00:00:00:00.');",
      "text/plain": [
       "<IPython.core.display.Javascript object>"
      ]
     },
     "metadata": {},
     "output_type": "display_data"
    },
    {
     "data": {
      "application/javascript": "$('div#5af904f7-fb84-422a-aa63-658f791d4110').width('70%');$('p#143d57d3-3969-4657-9492-c1362807380b').text('Elapsed time:   1.54s. Est. remaining time: 00:00:00:00.');",
      "text/plain": [
       "<IPython.core.display.Javascript object>"
      ]
     },
     "metadata": {},
     "output_type": "display_data"
    },
    {
     "data": {
      "application/javascript": "$('div#5af904f7-fb84-422a-aa63-658f791d4110').width('80%');$('p#143d57d3-3969-4657-9492-c1362807380b').text('Elapsed time:   1.77s. Est. remaining time: 00:00:00:00.');",
      "text/plain": [
       "<IPython.core.display.Javascript object>"
      ]
     },
     "metadata": {},
     "output_type": "display_data"
    },
    {
     "data": {
      "application/javascript": "$('div#5af904f7-fb84-422a-aa63-658f791d4110').width('90%');$('p#143d57d3-3969-4657-9492-c1362807380b').text('Elapsed time:   1.99s. Est. remaining time: 00:00:00:00.');",
      "text/plain": [
       "<IPython.core.display.Javascript object>"
      ]
     },
     "metadata": {},
     "output_type": "display_data"
    },
    {
     "data": {
      "application/javascript": "$('div#5af904f7-fb84-422a-aa63-658f791d4110').width('100%');$('p#143d57d3-3969-4657-9492-c1362807380b').text('Elapsed time:   2.21s. Est. remaining time: 00:00:00:00.');",
      "text/plain": [
       "<IPython.core.display.Javascript object>"
      ]
     },
     "metadata": {},
     "output_type": "display_data"
    },
    {
     "data": {
      "application/javascript": "$('div#5af904f7-fb84-422a-aa63-658f791d4110').width('100%');$('p#143d57d3-3969-4657-9492-c1362807380b').text('Elapsed time:   2.21s');",
      "text/plain": [
       "<IPython.core.display.Javascript object>"
      ]
     },
     "metadata": {},
     "output_type": "display_data"
    }
   ],
   "source": [
    "# PM solution\n",
    "pm_liouvillian, pm_dimensions = generate_pseudomodes(Hsys, Q, exp_env, fock_cutoff=[3, 3, 2, 2])\n",
    "\n",
    "initial_full = _tensor(pm_dimensions, {0: initial}, default=qt.fock_dm)\n",
    "Hsys_full = _tensor(pm_dimensions, {0: Hsys})\n",
    "\n",
    "pm_result = qt.mesolve(pm_liouvillian, initial_full, TLIST,\n",
    "                       e_ops=[_tensor(pm_dimensions, {0: qt.sigmax()})],\n",
    "                       options={'progress_bar': 'html', 'max_step': MAX_STEP})"
   ]
  },
  {
   "cell_type": "code",
   "execution_count": 9,
   "metadata": {},
   "outputs": [
    {
     "data": {
      "image/png": "[encoded data removed]",
      "text/plain": [
       "<Figure size 640x480 with 1 Axes>"
      ]
     },
     "metadata": {},
     "output_type": "display_data"
    }
   ],
   "source": [
    "plt.plot(TLIST, pm_result.expect[0], label='PM')\n",
    "plt.plot(TLIST, heom_result.expect[0], '--', label='HEOM')\n",
    "plt.legend()\n",
    "plt.show()"
   ]
  }
 ],
 "metadata": {
  "kernelspec": {
   "display_name": "gerardo-dev",
   "language": "python",
   "name": "python3"
  },
  "language_info": {
   "codemirror_mode": {
    "name": "ipython",
    "version": 3
   },
   "file_extension": ".py",
   "mimetype": "text/x-python",
   "name": "python",
   "nbconvert_exporter": "python",
   "pygments_lexer": "ipython3",
   "version": "3.12.5"
  }
 },
 "nbformat": 4,
 "nbformat_minor": 2
}
