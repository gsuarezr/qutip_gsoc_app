{
 "cells": [
  {
   "cell_type": "markdown",
   "id": "1b2e85e0",
   "metadata": {
    "slideshow": {
     "slide_type": "slide"
    },
    "tags": []
   },
   "source": [
    "#### HEOM in a Nutshell\n",
    "\n",
    "\n",
    "##### In words: \n",
    "\n",
    "The HEOM method solves the dynamics and steady state of a system and its environment when they are linearly coupled, in HEOM the bath information is encoded in a set of auxiliary density matrices (ADOS) . The properties of the system are encoded in its Hamiltonian, and an operator which describes its coupling to the environment, The bath parameters are encoded in the spectral density, and subsequently the free-bath correlation function (and also its spectrum). In order to solve the dynamics, both the number of ADOS and the correlation function are approximated, One would typycally increase this values untill one sees convergence\n",
    "\n",
    "##### The real deal\n",
    "\n",
    "This translates into describing systems whose Hamiltonian is given by:\n",
    "\n",
    "\\begin{align}\n",
    "H=H_{S}+H_{B}+H_{SB} \\\\\n",
    "H_{SB}=B(t)\\otimes S(t)\n",
    "\\end{align}\n",
    "\n",
    "Where $B(t)$ is the bath operator\n",
    "\n",
    "\\begin{equation}\n",
    "B(t)= \\sum_{k} \\left( f(t) a^{\\dagger}_{k} + \\overline{f(t)} a_{k} \\right)\n",
    "\\end{equation}\n",
    "\n",
    "and $S(t)$ a system operator, what this means is that this is only valid for linear interactions with the bath. We further make a couple more assumptions"
   ]
  },
  {
   "cell_type": "markdown",
   "id": "e2590a78",
   "metadata": {
    "slideshow": {
     "slide_type": "slide"
    },
    "tags": []
   },
   "source": [
    "## Asumptions\n",
    "\n",
    "- The system is linealy coupled to the environment\n",
    "\n",
    "- The bath is in thermal equilibrium\n",
    "\n",
    "\\begin{equation}\n",
    "\\rho_{B}(0) = \\frac{e^{\\beta H_{B}}}{Tr(e^{\\beta H_{B}})}\n",
    "\\end{equation}\n",
    "\n",
    "This makes things easier as we now only need to look at odd moments\n",
    "\n",
    "\\begin{equation}\n",
    "Tr(a\\rho_{B}(0))=0\n",
    "\\end{equation}\n",
    "\n",
    "\n",
    "- At time $t=0$ the system and bath are described by a product state\n",
    "\n",
    "\\begin{equation}\n",
    "\\rho(0) = \\rho_{B}(0) \\otimes \\rho_{S}(0)\n",
    "\\end{equation}\n",
    "\n",
    "\n"
   ]
  },
  {
   "cell_type": "markdown",
   "id": "33141ac8",
   "metadata": {
    "slideshow": {
     "slide_type": "slide"
    }
   },
   "source": [
    "### Derivation in a Nutshell:\n",
    "\n",
    "In the interaction picture the von neuman equation for the evolution of the full density matrix is given by:\n",
    "\n",
    "\\begin{equation}\n",
    "\\rho(t) = \\frac{-i}{\\hbar} [H_{SB}(t),\\rho(t)]\n",
    "\\end{equation}\n",
    "\n",
    "Which has the formal solution\n",
    "\n",
    "\\begin{equation}\n",
    "\\rho(t)=\\mathcal{T}  e^{\\frac{-i}{\\hbar} \\int_{0}^{t} [H_{SB}(\\tau), \\bullet ] d\\tau} \\rho(0)\n",
    "\\end{equation}\n",
    "\n",
    "If we now take a partial trace with respect to the bath, and expand the exponential into its series we obtain\n",
    "\n",
    "\\begin{equation}\n",
    "\\rho_{S}(t)= Tr_{B}\\left[ \\mathcal{T} \\sum_{n=0}^{\\infty}\\frac{1}{n!} \\left( \\frac{-i}{\\hbar} \\int_{0}^{t} [H_{SB}(\\tau), \\dot ] d\\tau\\right)^{n} \\rho_{B}(0) \\otimes \\rho_{S}(0) \\right] = \\sum_{n=0}^{\\infty} \\rho_{n}(t)\n",
    "\\end{equation}\n",
    "\n",
    "Now since we assumed linear coupling and an equilibrium bath\n",
    "\n",
    "\\begin{equation}\n",
    "Tr(B(t)\\rho_{B}(0))=0\n",
    "\\end{equation}\n",
    "\n",
    "wich means \n",
    "\n",
    "\\begin{equation}\n",
    "\\rho_{2n+1}=0 \\hspace{0.3cm} \\forall n\n",
    "\\end{equation}\n",
    "\n",
    "Thus\n",
    "\n",
    "\\begin{equation}\n",
    "\\rho_{S}(t) = \\sum_{2n=0}^{\\infty} \\rho_{2n}(t)\n",
    "\\end{equation}\n"
   ]
  },
  {
   "cell_type": "markdown",
   "id": "bf42bbf4",
   "metadata": {
    "slideshow": {
     "slide_type": "slide"
    }
   },
   "source": [
    "#### Derivation in a Nutshell 2:\n",
    "\n",
    "Since the coupling is linear and we are in a thermal state, the bath remains gaussian through the evolution so we can use Wicks' Theorem to obtain all correlators in terms of second order correlators. After some algebra (details can be seen [here](tuculo.com)) we can write he second order correlator as \n",
    "\n",
    "\\begin{equation}\n",
    "\\rho_{2}(t) = \\frac{-1}{\\hbar^{2}} \\int_{0}^{t}dt_{2}\\int_{0}^{t_{2}}dt_{1}  \\left( \\Gamma(t_{2}-t_{1}) [S(t_{2}),[S(t_{1}),\\bullet]] - i \\xi(t_{2}-t_{1}) [S(t_{2}),\\{S(t_{1}),\\bullet\\}] \\right) \\rho_{S}(0)\n",
    "\\end{equation}\n",
    "\n",
    "and higher powers are given by:\n",
    "\n",
    "\\begin{equation}\n",
    "\\rho_{2n}(t) = \\frac{(-1)^{n}}{\\hbar^{2n} n!} \\int_{0}^{t}dt_{2}\\int_{0}^{t_{2}}dt_{1}  \\left( \\Gamma(t_{2}-t_{1}) [S(t_{2}),[S(t_{1}),\\bullet]] - i \\xi(t_{2}-t_{1}) [S(t_{2}),\\{S(t_{1}),\\bullet\\}] \\right)^{2n} \\rho_{S}(0)\n",
    "\\end{equation}\n",
    "\n",
    "So Finally one has\n",
    "\n",
    "\\begin{equation}\n",
    "\\rho_{S}(t)=\\mathcal{T}e^{\\frac{-1}{\\hbar^{2}} \\int_{0}^{t}dt_{2}\\int_{0}^{t_{2}}dt_{1}  \\left( \\Gamma(t_{2}-t_{1}) [S(t_{2}),[S(t_{1}),\\bullet]] - i \\xi(t_{2}-t_{1}) [S(t_{2}),\\{S(t_{1}),\\bullet\\}] \\right)} \\rho_{S}(0)\n",
    "\\end{equation}\n",
    "\n",
    "\n",
    "Where\n",
    "\n",
    "\\begin{align}\n",
    "\\Gamma(\\tau)=Re(C(\\tau))=Re(\\langle B(\\tau) B(0) \\rangle) \\\\\n",
    "\\xi(\\tau)=Im(C(\\tau))=Im(\\langle B(\\tau) B(0) \\rangle)\n",
    "\\end{align}\n",
    "\n",
    "This is still a hard problem to solve, however if we assume more about the baths, we can derive the so called hierarchy\n",
    "\n",
    "\n"
   ]
  },
  {
   "cell_type": "markdown",
   "id": "1b14aecc",
   "metadata": {
    "slideshow": {
     "slide_type": "slide"
    }
   },
   "source": [
    "#### Simplification\n",
    "\n",
    "Let us assume that the spectral density of the bath is such that we can express our bath correlation function as\n",
    "\n",
    "\\begin{equation}\n",
    "\\langle B(\\tau) B(0) \\rangle = \\int_{-\\infty}^{\\infty} J(\\omega) \\left( coth\\left(\\frac{\\hbar \\beta \\omega}{2}\\right) cos(\\omega t) - i sin(\\omega t)\\right) d\\omega = \\sum_{k=0}^{\\infty}C_{n}e^{-\\nu_{n} \\tau} \n",
    "\\end{equation}\n",
    "\n",
    "\n",
    "\n",
    "#### Notice in qutip this definition is divided by $\\pi$\n",
    "\n",
    "By substituting this into the previous equations and taking a time derivative one obtains:\n",
    "\n",
    "$$\\dot{\\rho_{s}(t)}= -i \\left(\\mathcal{L_{S}} -\\sum_{k=K+1}^{\\infty} \\frac{\\Phi \\theta_{k}}{\\nu_{k}} \\right)\\rho_{S}(t) + \\Phi \\sum_{k=0}^{K}\\sigma^{(1)}_{(0,\\dots,1_{k},\\dots,0)}$$\n",
    "\n",
    "\n"
   ]
  },
  {
   "cell_type": "markdown",
   "id": "84f59025",
   "metadata": {
    "slideshow": {
     "slide_type": "slide"
    }
   },
   "source": [
    "where\n",
    "\n",
    "$$\\Phi=i\\{S(t),\\bullet \\}$$\n",
    "\n",
    "$$\\theta_{k}=\\frac{i}{\\hbar} \\left( c_{k}^{R} \\{S(t),\\bullet \\}+ c_{k}^{I} [S(t),\\bullet ] \\right) $$\n",
    "\n",
    "$$\\sigma^{(1)}_{(0,\\dots,1_{k},\\dots,0)}=U_{0}^{\\dagger}(t)\\mathcal{T}\\int_{0}^{t} d\\tau e^{\\nu_{k}(t-\\tau)} \\theta_{k}(\\tau) \\rho_{S}^{I} U_{0}(t)$$\n",
    "\n",
    "The idea of the hierarchy is not to solve the equation directly byt to treat $\\sigma_{1}$ and obtain its evolution, which will be given by a another function for which will do the same, this are the ADOS, the hierarchy is at some point truncated and the equations are solved\n",
    "\n",
    "$$\\dot{\\sigma^{(n)}_{(j_{0},\\dots,j_{n},\\dots,j_{K})}} = -i \\left(\\mathcal{L_{S}} -\\sum_{k=K+1}^{\\infty} \\frac{\\Phi \\theta_{k}}{\\nu_{k}}+\\sum_{k=0}^{K}j_{k}\\nu_{k} \\right) \\sigma^{(n)}_{(j_{0},\\dots,j_{n},\\dots,j_{K})}  +\\sum_{k} j_{k} \\theta_{k} \\sigma^{(n-1)}_{(j_{0},\\dots,j_{n},\\dots,j_{K})} + \\Phi \\sum_{k}\\sigma^{(n+1)}_{(j_{0},\\dots,j_{n},\\dots,j_{K})}$$\n",
    "\n",
    "$n=\\sum_{k}j_{k}$"
   ]
  },
  {
   "cell_type": "markdown",
   "id": "e2360902",
   "metadata": {
    "slideshow": {
     "slide_type": "slide"
    }
   },
   "source": [
    "##### The common spectral densities that satisfy this for bosonic baths  are the underdamped and the overdamped brownian motion spectral densities \n",
    "\n",
    "$$J_{OD} = \\frac{2\\lambda \\gamma \\omega}{(\\gamma^2 + \\omega^2)}$$\n",
    "\n",
    "\\begin{equation}\n",
    "J_{UD}(\\omega,a,b,c) =\\frac{2 a_i b_i w}{((w + c_i)^2 + b_i^2) ((w - c_i)^2 + b_i^2)} =\\frac{\\alpha^2 \\Gamma \\omega}{(\\omega_c^2 - \\omega^2)^2 + \\Gamma^2 \\omega^2)}.\n",
    "\\end{equation}\n",
    "\n",
    "And for those one an expression for the $C_{n}$ and $\\nu_{n}$ required to solve HEOM. however notice that the spectral densities are of lorentzian form and they tend to deltas in a limit, as such one may use combinations of them to approximate any function, in particular other spectral densities, similarly one may fit the a correlation function as a series of exponential decaying series, or even the power spectrum, from which one can recover the correlation function such that one may write:\n",
    "\n",
    "\\begin{equation}\n",
    "J(w)\\approx\\sum_{k=0}^{M} J_{UD}(\\omega,a_{k},b_{k},c_{k})\n",
    "\\end{equation}\n",
    "\n",
    "and find the set of coefficients via nonlinear fitting, similarly one can do the same for the correlation function\n",
    "\n",
    " $$C(\\tau) \\approx \\sum_{k=0}^{k_{R}}a_{k}e^{-b_{k} \\tau} cos(c_{k} \\tau) + i \\sum_{k=0}^{k_{R}}d_{k} e^{-e_{k} \\tau} sin(f_{k} \\tau) \\approx \\sum_{k} C_{UD}(\\tau,a_{k},b_{k},c_{k}) $$\n",
    "\n",
    "\n",
    "\n"
   ]
  },
  {
   "cell_type": "markdown",
   "id": "ef862226",
   "metadata": {
    "slideshow": {
     "slide_type": "subslide"
    }
   },
   "source": [
    "\n",
    "For an underdamped spectral density\n",
    "\n",
    "\\begin{equation*}\n",
    "    C_k^R = \\begin{cases}\n",
    "               \\alpha^2 \\coth(\\beta( \\Omega + i\\Gamma/2)/2)/4\\Omega & k = 0\\\\\n",
    "               \\alpha^2 \\coth(\\beta( \\Omega - i\\Gamma/2)/2)/4\\Omega & k = 0\\\\\n",
    "              -2\\alpha^2\\Gamma/\\beta \\frac{\\epsilon_k }{((\\Omega + i\\Gamma/2)^2 + \\epsilon_k^2)(\\Omega - i\\Gamma/2)^2 + \\epsilon_k^2)}      & k \\geq 1\\\\\n",
    "           \\end{cases}\n",
    "\\end{equation*}\n",
    "\n",
    "\\begin{equation*}\n",
    "    \\nu_k^R = \\begin{cases}\n",
    "               -i\\Omega  + \\Gamma/2, i\\Omega  +\\Gamma/2,             & k = 0\\\\\n",
    "               {2 \\pi k} / {\\beta }  & k \\geq 1\\\\\n",
    "           \\end{cases}\n",
    "\\end{equation*}\n",
    "\n",
    "\n",
    "\n",
    "\n",
    "\\begin{equation*}\n",
    "    C_k^I = \\begin{cases}\n",
    "               i\\alpha^2 /4\\Omega & k = 0\\\\\n",
    "                -i\\alpha^2 /4\\Omega & k = 0\\\\\n",
    "           \\end{cases}\n",
    "\\end{equation*}\n",
    "\n",
    "\\begin{equation*}\n",
    "    \\nu_k^I = \\begin{cases}\n",
    "               i\\Omega  + \\Gamma/2, -i\\Omega  + \\Gamma/2,             & k = 0\\\\\n",
    "           \\end{cases}\n",
    "\\end{equation*}\n",
    "\n",
    "and $\\Omega=\\sqrt{\\omega_{c}^{2}-\\left(\\frac{\\Gamma}{2}\\right)^{2}}$ and we do the fitting for the real and imaginary parts separately"
   ]
  },
  {
   "cell_type": "markdown",
   "id": "eb601086",
   "metadata": {
    "slideshow": {
     "slide_type": "slide"
    }
   },
   "source": [
    "### About the Fitting Procedure\n",
    "\n",
    "Now that we have established we can simulate arbitrary baths through fitting, let us get to it previously on qutip 4.7 we could do the fitting and construct the bath manually. Doing it manualy requires certain considerations such as:\n",
    "\n",
    "- The initial guesses for the nonlinear fitting algorithm -> This PR includes appropiate defaults for common spectral densities, \n",
    "- After Fitting is the fit good? -> In this PR, we measure the Goodness of Fit via Normalize Root mean Squared Error\n",
    "- The number of terms to use for the fit -> Can be found automatically by indicating the minumum RMSE required\n",
    "- Do my fitted functions represent well my bath correlation function with a small number of exponents each? should I increase it? -> We provide easy ways to check this in this PR\n",
    "- After fitting how do I get back the other quantities ? i.e the spectral density associated to the correlation function -> Commands to obtain the other properties are included in this PR\n",
    "\n",
    "see [tutorial](https://nbviewer.org/urls/qutip.org/qutip-tutorials/tutorials-v4/heom/heom-1d-spin-bath-model-ohmic-fitting.ipynb)\n",
    "\n",
    "I implemented functions to achieve this without the hassle of doing everything in the tutorial, for arbitrary spectral densities or correlation functions"
   ]
  },
  {
   "cell_type": "code",
   "execution_count": 26,
   "id": "8da066b1",
   "metadata": {
    "slideshow": {
     "slide_type": "skip"
    }
   },
   "outputs": [],
   "source": [
    "import numpy as np\n",
    "import latexify\n",
    "import qutip\n",
    "from qutip import (\n",
    "    basis,\n",
    "    expect,\n",
    "    liouvillian,\n",
    "    sigmax,\n",
    "    sigmaz,\n",
    "    sigmap,\n",
    "    Qobj\n",
    ")\n",
    "from qutip.solver.heom import (\n",
    "    HEOMSolver,\n",
    "    SpectralFitter,\n",
    "    CorrelationFitter,\n",
    "    OhmicBath,\n",
    "    BosonicBath,\n",
    "    DrudeLorentzBath,\n",
    "    UnderDampedBath\n",
    ")\n",
    "import warnings\n",
    "warnings.filterwarnings('ignore')\n"
   ]
  },
  {
   "cell_type": "code",
   "execution_count": 2,
   "id": "968ed722",
   "metadata": {
    "slideshow": {
     "slide_type": "slide"
    }
   },
   "outputs": [
    {
     "data": {
      "text/latex": [
       "$$ \\displaystyle J(w, α, \\mathrm{wc}) = α w \\cdot \\exp \\mathopen{}\\left( \\frac{-\\mathopen{}\\left| w \\mathclose{}\\right|}{\\mathrm{wc}} \\mathclose{}\\right) $$"
      ],
      "text/plain": [
       "<latexify.ipython_wrappers.LatexifiedFunction at 0x7bbc46a9b1f0>"
      ]
     },
     "execution_count": 2,
     "metadata": {},
     "output_type": "execute_result"
    }
   ],
   "source": [
    "@latexify.function\n",
    "def J(w, α,wc=1):\n",
    "    \"\"\" The Ohmic bath spectral density as a function of w\n",
    "        (and the bath parameters).\n",
    "    \"\"\"\n",
    "    return α*w*np.exp(-abs(w)/wc)\n",
    "J"
   ]
  },
  {
   "cell_type": "code",
   "execution_count": 3,
   "id": "cf45222b",
   "metadata": {
    "slideshow": {
     "slide_type": "fragment"
    }
   },
   "outputs": [],
   "source": [
    "Q = sigmax()\n",
    "alpha = 0.5\n",
    "T = 1\n",
    "wc= 5.0"
   ]
  },
  {
   "cell_type": "code",
   "execution_count": 4,
   "id": "356c03ea",
   "metadata": {
    "slideshow": {
     "slide_type": "fragment"
    }
   },
   "outputs": [],
   "source": [
    "w = np.linspace(0, 50, 2000)\n",
    "J_array=J(w,alpha,wc)\n",
    "J_fun=lambda w:J(w,alpha,wc)"
   ]
  },
  {
   "cell_type": "code",
   "execution_count": 5,
   "id": "14cacbf5",
   "metadata": {
    "slideshow": {
     "slide_type": "skip"
    }
   },
   "outputs": [],
   "source": [
    "import matplotlib.pyplot as plt"
   ]
  },
  {
   "cell_type": "code",
   "execution_count": 6,
   "id": "3fcc1223",
   "metadata": {
    "slideshow": {
     "slide_type": "skip"
    }
   },
   "outputs": [
    {
     "data": {
      "text/plain": [
       "[<matplotlib.lines.Line2D at 0x7bbc28ef3970>]"
      ]
     },
     "execution_count": 6,
     "metadata": {},
     "output_type": "execute_result"
    },
    {
     "data": {
      "image/png": "[encoded data removed]",
      "text/plain": [
       "<Figure size 640x480 with 1 Axes>"
      ]
     },
     "metadata": {},
     "output_type": "display_data"
    }
   ],
   "source": [
    "plt.plot(w,J_array)"
   ]
  },
  {
   "cell_type": "markdown",
   "id": "8647accc",
   "metadata": {
    "slideshow": {
     "slide_type": "slide"
    }
   },
   "source": [
    "The most common bath one may want to fit for bosonic systems is perhaps an exponential cutoff whose spectral density is usually written as\n",
    "\n",
    "\\begin{equation}\n",
    "J(\\omega) =  \\alpha \\omega_{c} \\left(\\frac{\\omega}{\\omega_{c}} \\right)^{s} e^{- \\frac{\\omega}{\\omega_c}}\n",
    "\\end{equation}\n",
    "\n",
    "And its correlation function by\n",
    "\n",
    "\\begin{align}\n",
    "C(t) =& \\: \\frac{1}{\\pi}\\alpha \\omega_{c}^{1 - s} \\beta^{- (s + 1)} \\: \\times \\\\\n",
    "      & \\: \\Gamma(s + 1) \\left[ \\zeta \\left(s + 1, \\frac{1 + \\beta \\omega_c - i \\omega_c t}{\\beta \\omega_c}\\right) + \\zeta \\left(s + 1, \\frac{1 + i \\omega_c t}{\\beta \\omega_c}\\right) \\right]\n",
    "\\end{align}\n",
    "\n",
    "where $\\Gamma$ is the Gamma function and\n",
    "\n",
    "\\begin{equation}\n",
    "\\zeta(z, u) \\equiv \\sum_{n=0}^{\\infty} \\frac{1}{(n + u)^z}, \\; u \\neq 0, -1, -2, \\ldots\n",
    "\\end{equation}\n",
    "\n",
    "is the generalized Zeta function. The Ohmic case is given by $s = 1$. Based on the two previous approaches a dedicated ohmic class was created so one can fit via correlation or spectral density in a simple manner\n"
   ]
  },
  {
   "cell_type": "code",
   "execution_count": 7,
   "id": "d43cb4da",
   "metadata": {
    "slideshow": {
     "slide_type": "fragment"
    }
   },
   "outputs": [],
   "source": [
    "obs=OhmicBath(T=1,Q=sigmax(),alpha=0.05,wc=1,s=1)"
   ]
  },
  {
   "cell_type": "code",
   "execution_count": 8,
   "id": "2fd7e069",
   "metadata": {
    "slideshow": {
     "slide_type": "skip"
    }
   },
   "outputs": [
    {
     "data": {
      "text/html": [
       "<style>.container { width:90% !important; }</style>"
      ],
      "text/plain": [
       "<IPython.core.display.HTML object>"
      ]
     },
     "metadata": {},
     "output_type": "display_data"
    }
   ],
   "source": [
    "from IPython.display import display, HTML\n",
    "display(HTML(\"<style>.container { width:90% !important; }</style>\"))"
   ]
  },
  {
   "cell_type": "code",
   "execution_count": 9,
   "id": "eb36126f",
   "metadata": {
    "slideshow": {
     "slide_type": "fragment"
    }
   },
   "outputs": [],
   "source": [
    "t=np.linspace(0.001,10,1000)"
   ]
  },
  {
   "cell_type": "code",
   "execution_count": 10,
   "id": "c42a20ed",
   "metadata": {
    "scrolled": false,
    "slideshow": {
     "slide_type": "slide"
    }
   },
   "outputs": [
    {
     "name": "stdout",
     "output_type": "stream",
     "text": [
      "Fit correlation class instance: \n",
      " \n",
      "Result of fitting The Real Part Of                                      |Result of fitting The Imaginary Part                                    \n",
      " the Correlation Function with 5 terms:                                 | Of the Correlation Function with 5 terms:                              \n",
      "                                                                        |                                                                        \n",
      " Parameters|    a     |    b     |    c                                 | Parameters|    a     |    b     |    c                                 \n",
      " 1         |-1.71e-01 |-4.22e-01 |6.51e-02                              | 1         |-3.32e-03 |-8.49e-01 |2.66e+00                              \n",
      " 2         | 1.88e-01 |-4.40e-01 |1.74e-04                              | 2         |-5.92e-03 |-7.98e-01 |1.76e+00                              \n",
      " 3         |-6.65e-01 |-3.37e+00 |1.18e+00                              | 3         |-1.43e-03 |-9.38e-01 |3.79e+00                              \n",
      " 4         | 2.49e-01 |-3.15e+00 |1.72e+00                              | 4         |-1.29e-02 |-7.05e-01 |2.58e-01                              \n",
      " 5         | 4.35e-01 |-3.32e+00 |1.21e-03                              | 5         |-8.74e-03 |-7.52e-01 |9.98e-01                              \n",
      "                                                                        |                                                                        \n",
      "A  normalized RMSE of  3.29e-06 was obtained for the The Real Part Of   |A  normalized RMSE of  1.31e-04 was obtained for the The Imaginary Part \n",
      " the Correlation Function                                               | Of the Correlation Function                                            \n",
      " The current fit took  13.992354 seconds                                | The current fit took  1.290689 seconds                                 \n",
      "\n"
     ]
    }
   ],
   "source": [
    "Cbath,fitinfo=obs.make_correlation_fit(t,Nr=5,Ni=5)\n",
    "print(fitinfo['summary'])"
   ]
  },
  {
   "cell_type": "code",
   "execution_count": 11,
   "id": "a673a132",
   "metadata": {
    "slideshow": {
     "slide_type": "fragment"
    }
   },
   "outputs": [
    {
     "name": "stdout",
     "output_type": "stream",
     "text": [
      "Result of fitting The Spectral Density with None terms: \n",
      " \n",
      " Parameters|   lam    |  gamma   |   w0 \n",
      " 1         |-7.77e-01 | 1.64e+00 |3.25e-01\n",
      " 2         | 9.00e-01 | 1.70e+00 |1.00e-01\n",
      " 3         |-6.06e-02 | 4.29e+00 |4.21e+00\n",
      " 4         | 3.74e-04 | 3.86e-01 |1.00e-01\n",
      " \n",
      "A  normalized RMSE of  9.14e-06 was obtained for the The Spectral Density\n",
      " The current fit took  29.720914 seconds\n"
     ]
    }
   ],
   "source": [
    "w=np.linspace(0,25,2000)\n",
    "Sbath,fitinfo=obs.make_spectral_fit(w,rmse=1e-5)\n",
    "print(fitinfo['summary'])"
   ]
  },
  {
   "cell_type": "code",
   "execution_count": 12,
   "id": "b3b751fb",
   "metadata": {
    "slideshow": {
     "slide_type": "fragment"
    }
   },
   "outputs": [],
   "source": [
    "Hsys=sigmaz()/2\n",
    "rho0=0.5*Qobj([[1,1],[1,1]])"
   ]
  },
  {
   "cell_type": "code",
   "execution_count": 13,
   "id": "b3e05954",
   "metadata": {
    "scrolled": true,
    "slideshow": {
     "slide_type": "fragment"
    }
   },
   "outputs": [
    {
     "name": "stdout",
     "output_type": "stream",
     "text": [
      "10.0%. Run time:   0.01s. Est. time left: 00:00:00:00\n",
      "20.0%. Run time:   0.02s. Est. time left: 00:00:00:00\n",
      "30.1%. Run time:   0.03s. Est. time left: 00:00:00:00\n",
      "40.1%. Run time:   0.04s. Est. time left: 00:00:00:00\n",
      "50.1%. Run time:   0.05s. Est. time left: 00:00:00:00\n",
      "60.1%. Run time:   0.07s. Est. time left: 00:00:00:00\n",
      "70.1%. Run time:   0.08s. Est. time left: 00:00:00:00\n",
      "80.1%. Run time:   0.10s. Est. time left: 00:00:00:00\n",
      "90.2%. Run time:   0.11s. Est. time left: 00:00:00:00\n",
      "100.0%. Run time:   0.12s. Est. time left: 00:00:00:00\n",
      "Total run time:   0.13s\n"
     ]
    }
   ],
   "source": [
    "tlist = np.linspace(0, 10, 600)\n",
    "HEOM_ohmic_spec_fit = HEOMSolver(Hsys, Sbath, max_depth=3)\n",
    "results_ohmic_spec_fit = (HEOM_ohmic_spec_fit.run(rho0, tlist))"
   ]
  },
  {
   "cell_type": "code",
   "execution_count": 14,
   "id": "07223d7b",
   "metadata": {
    "slideshow": {
     "slide_type": "skip"
    }
   },
   "outputs": [
    {
     "name": "stdout",
     "output_type": "stream",
     "text": [
      "10.0%. Run time:   0.03s. Est. time left: 00:00:00:00\n",
      "20.0%. Run time:   0.05s. Est. time left: 00:00:00:00\n",
      "30.1%. Run time:   0.07s. Est. time left: 00:00:00:00\n",
      "40.1%. Run time:   0.10s. Est. time left: 00:00:00:00\n",
      "50.1%. Run time:   0.12s. Est. time left: 00:00:00:00\n",
      "60.1%. Run time:   0.15s. Est. time left: 00:00:00:00\n",
      "70.1%. Run time:   0.17s. Est. time left: 00:00:00:00\n",
      "80.1%. Run time:   0.20s. Est. time left: 00:00:00:00\n",
      "90.2%. Run time:   0.23s. Est. time left: 00:00:00:00\n",
      "100.0%. Run time:   0.25s. Est. time left: 00:00:00:00\n",
      "Total run time:   0.25s\n"
     ]
    }
   ],
   "source": [
    "HEOM_ohmic_corr_fit = HEOMSolver(Hsys, Cbath, max_depth=3)\n",
    "results_ohmic_corr_fit = (HEOM_ohmic_corr_fit.run(rho0, tlist))"
   ]
  },
  {
   "cell_type": "code",
   "execution_count": 27,
   "id": "7b6dd7e0",
   "metadata": {},
   "outputs": [],
   "source": [
    "P11p=(sigmaz()+1)/2\n",
    "P12p=sigmap()"
   ]
  },
  {
   "cell_type": "code",
   "execution_count": 28,
   "id": "f6d6c7cb",
   "metadata": {
    "slideshow": {
     "slide_type": "slide"
    }
   },
   "outputs": [
    {
     "data": {
      "image/png": "[encoded data removed]",
      "text/plain": [
       "<Figure size 640x480 with 1 Axes>"
      ]
     },
     "metadata": {},
     "output_type": "display_data"
    }
   ],
   "source": [
    "expc=np.real(expect(results_ohmic_corr_fit.states,P11p))\n",
    "exps=np.real(expect(results_ohmic_spec_fit.states,P11p))\n",
    "plt.plot(results_ohmic_corr_fit.times,exps)\n",
    "plt.plot(results_ohmic_corr_fit.times,expc,'-.')\n",
    "plt.show()"
   ]
  },
  {
   "cell_type": "code",
   "execution_count": 49,
   "id": "f9db7e5c",
   "metadata": {
    "slideshow": {
     "slide_type": "fragment"
    }
   },
   "outputs": [
    {
     "data": {
      "image/png": "[encoded data removed]",
      "text/plain": [
       "<Figure size 640x480 with 1 Axes>"
      ]
     },
     "metadata": {},
     "output_type": "display_data"
    }
   ],
   "source": [
    "expc=np.real(expect(results_ohmic_corr_fit.states,P12p))\n",
    "exps=np.real(expect(results_ohmic_spec_fit.states,P12p))\n",
    "plt.plot(results_ohmic_corr_fit.times,exps)\n",
    "plt.plot(results_ohmic_corr_fit.times,expc,'-.')\n",
    "plt.show()"
   ]
  },
  {
   "cell_type": "markdown",
   "id": "76fb49c5",
   "metadata": {
    "slideshow": {
     "slide_type": "slide"
    }
   },
   "source": [
    "#### The AAA algorithm\n",
    "\n",
    "It is a recently introduced algorithm to approximate functions by a rational function on a real or complex set of points. It has been rapidly adopted by the [mathematical community](https://arxiv.org/pdf/2312.03565.pdf) . In the AAA algorithm the function is approximated by the so called barycentric formula\n",
    "\n",
    "\n",
    "\\begin{equation}\n",
    "r(z)= \\frac{\\sum_{j=1}^{m}\\frac{w_{j} f_{j}}{z-z_{j}}}{\\sum_{j=1}^{m}\\frac{w_{j}}{z-z_{j}}} \\approx \\sum_{k} \\frac{Residues_{k}}{z-Poles_{k}}\n",
    "\\end{equation}\n",
    "\n",
    "where $w_{j}$ are the weights determined by the algorithm, z are the distinc support points (elements on the grid where we fit) and $f_{j}$ is the function evaluated at $f_{j}$\n",
    "\n",
    "#### Advantages:\n",
    "\n",
    "- Does not require any initial guess, or bounds\n",
    "- Procedure is straightforward, not much tuning needed as opposed to least squares, all that is tuned is tolerance and the support points\n",
    "- It is the best or near best approximation to functions on a subset (similar to Pade being the best approximation of a function at a given order)\n",
    "- Relatively Fast\n",
    "\n",
    "### Cons\n",
    "\n",
    "- Sensitive to the choice of support points for problems of interest in Open quantum systems, logaritmic spacing is advised\n",
    "- Consumes way Too much ram to get adeaquate exponents for HEOM"
   ]
  },
  {
   "cell_type": "markdown",
   "id": "6f1776b2",
   "metadata": {
    "slideshow": {
     "slide_type": "slide"
    }
   },
   "source": [
    "##### Why a Good fit in Spectrum may not be suitable for the HEOM Solver?\n",
    "\n",
    "If we assume the correlation function is given by a series of decaying exponentials, then the spectrum is given by:\n",
    "\n",
    "$$S(w)= \\sum_{k} \\frac{C_{k}}{\\nu_{k}-i \\omega} + C.C$$\n",
    "\n",
    "So by direct comparison one obtains\n",
    "\n",
    "$$C_{k}= -i Residues$$\n",
    "$$\\nu_{k}= i Poles$$"
   ]
  },
  {
   "cell_type": "code",
   "execution_count": 35,
   "id": "3ae80bc2",
   "metadata": {
    "slideshow": {
     "slide_type": "subslide"
    }
   },
   "outputs": [],
   "source": [
    "import scipy as sp\n",
    "def aaa(F, Z, tol=1e-13, mmax=100):\n",
    "\n",
    "    if ~ (type(F)==np.array):\n",
    "        F = F(Z)\n",
    "    M =len(Z)\n",
    "    J = list(range(0,M))\n",
    "    z = np.empty(0)\n",
    "    f = np.empty(0)\n",
    "    C = []\n",
    "    errors = []\n",
    "    R = np.mean(F) * np.ones_like(F)\n",
    "    for m in range(mmax):\n",
    "        # find largest residual\n",
    "        j = np.argmax(abs(F - R))\n",
    "        z = np.append(z, Z[j])\n",
    "        f = np.append(f, F[j])\n",
    "        try:\n",
    "            J.remove(j)\n",
    "        except:\n",
    "            pass\n",
    "\n",
    "        # Cauchy matrix containing the basis functions as columns\n",
    "        C = 1.0 / (Z[J,None] - z[None,:])\n",
    "        # Loewner matrix\n",
    "        A = (F[J,None] - f[None,:]) * C\n",
    "\n",
    "        # compute weights as right singular vector for smallest singular value\n",
    "        _, _, Vh = np.linalg.svd(A)\n",
    "        wj = Vh[-1, :].conj()\n",
    "\n",
    "\n",
    "        # approximation: numerator / denominator\n",
    "        N = C.dot(wj * f)\n",
    "        D = C.dot(wj)\n",
    "\n",
    "        # update residual\n",
    "        R = F.copy()\n",
    "        R[J] = N / D\n",
    "\n",
    "        # check for convergence\n",
    "        errors.append(np.linalg.norm(F - R, np.inf))\n",
    "        if errors[-1] <= tol * np.linalg.norm(F, np.inf):\n",
    "            break\n",
    "    r= lambda x: approximated_function(x,z,f,wj)\n",
    "    #return z,f,wj\n",
    "    pol,res,zer=prz(z,f,wj)\n",
    "    return r,pol,res,zer\n",
    "def approximated_function(zz,z,f,w,need=False):\n",
    "    # evaluate r at zz\n",
    "    zv = np.ravel(zz)  # vectorize zz\n",
    "\n",
    "    # Cauchy matrix\n",
    "    CC = 1 / (np.subtract.outer(zv, z))\n",
    "\n",
    "    # AAA approximation as vector\n",
    "    r = np.dot(CC, w * f) / np.dot(CC, w)\n",
    "    if need is True:\n",
    "        return np.dot(CC, w * f),np.dot(CC, w * f)\n",
    "    # Find values NaN = Inf/Inf if any\n",
    "    ii = np.isnan(r)\n",
    "\n",
    "    # Force interpolation at NaN points\n",
    "    for j in np.where(ii)[0]:\n",
    "        r[j] = f[np.where(zv[j] == z)[0][0]]\n",
    "\n",
    "    # Reshape the result to match the shape of zz\n",
    "    r = r.reshape(zz.shape)\n",
    "    return r\n",
    "\n",
    "def prz(z,f,w):\n",
    "    m=len(w)\n",
    "    B=np.eye(m+1)\n",
    "    B[0,0]=0\n",
    "    E = np.block([[0,w],[np.ones((m,1)),np.diag(z)]])\n",
    "    eigvals=sp.linalg.eig(E,B)[0]\n",
    "    pol= np.real_if_close(eigvals[np.isfinite(eigvals)])#eigvals[~np.isinf(eigvals)] #remove singularities\n",
    "    # Get residues from quotients, in the paper they use a little shift \n",
    "    # but I coudn't broadcast it correctly\n",
    "    C=1.0/(pol[:,None]-z[None,:])\n",
    "    N=C.dot(f*w)\n",
    "    D=(-C**2).dot(w) #Derivative, formula for simple poles see Zill complex analysis\n",
    "    res=N/D\n",
    "    ez=np.block([[0,w],[f[:,None],np.diag(z)]])\n",
    "    eigvals_zeros=sp.linalg.eig(ez,B)[0]\n",
    "    zer= eigvals_zeros[~np.isinf(eigvals_zeros)]\n",
    "    return pol,res,zer\n",
    "\n"
   ]
  },
  {
   "cell_type": "code",
   "execution_count": 36,
   "id": "df1ed17d",
   "metadata": {
    "slideshow": {
     "slide_type": "skip"
    }
   },
   "outputs": [],
   "source": [
    "def bose_einstein(w,T):\n",
    "    \"\"\"\n",
    "    Calculates the bose einstein distribution for the\n",
    "    temperature of the bath\n",
    "\n",
    "    Parameters\n",
    "    ----------\n",
    "    w: float or array\n",
    "        Energy of the mode\n",
    "\n",
    "    Returns\n",
    "    ----------\n",
    "    The population of the mode with energy w\n",
    "    \"\"\"\n",
    "    w = np.array(w, dtype=float)\n",
    "    return 1 / (np.exp(w /T) - 1)\n",
    "def filter_poles(pol,res):\n",
    "    pols=[]\n",
    "    ress=[]\n",
    "    for i in range(len(pol)):\n",
    "        if (np.imag(pol[i])<0):\n",
    "            pols.append(pol[i])\n",
    "            ress.append(res[i])\n",
    "    return np.array(pols),np.array(ress)"
   ]
  },
  {
   "cell_type": "code",
   "execution_count": 37,
   "id": "85936265",
   "metadata": {
    "slideshow": {
     "slide_type": "slide"
    }
   },
   "outputs": [],
   "source": [
    "FF=lambda Z:obs.spectral_density(Z+0j)*2*(bose_einstein(Z,obs.T)+1)"
   ]
  },
  {
   "cell_type": "code",
   "execution_count": 87,
   "id": "e4e37b95",
   "metadata": {
    "slideshow": {
     "slide_type": "fragment"
    }
   },
   "outputs": [],
   "source": [
    "Z=np.concatenate((-np.logspace(2,-8,1500),np.logspace(-2,3,1500)))\n",
    "#Z=np.linspace(-100,100,5000)\n"
   ]
  },
  {
   "cell_type": "code",
   "execution_count": 90,
   "id": "0c8f6c64",
   "metadata": {
    "slideshow": {
     "slide_type": "fragment"
    }
   },
   "outputs": [],
   "source": [
    "r,pol,res,zer=aaa(FF,Z,tol=1e-8)"
   ]
  },
  {
   "cell_type": "code",
   "execution_count": 91,
   "id": "484f9b44",
   "metadata": {
    "slideshow": {
     "slide_type": "fragment"
    }
   },
   "outputs": [],
   "source": [
    "new_pols,new_res=filter_poles(pol,res)\n",
    "ckAR,ckAI=np.real(-1j*new_res),np.imag(-1j*new_res)\n",
    "vkAR,vkAI=np.real(1j*new_pols),np.imag(1j*new_pols)\n",
    "aaabath=BosonicBath(sigmax(),ckAR,vkAR+1j*vkAI,ckAI,vkAR+1j*vkAI)"
   ]
  },
  {
   "cell_type": "code",
   "execution_count": 92,
   "id": "c646f1df",
   "metadata": {
    "slideshow": {
     "slide_type": "slide"
    }
   },
   "outputs": [
    {
     "name": "stdout",
     "output_type": "stream",
     "text": [
      "10.0%. Run time:   0.07s. Est. time left: 00:00:00:00\n",
      "20.0%. Run time:   0.17s. Est. time left: 00:00:00:00\n",
      "30.1%. Run time:   0.29s. Est. time left: 00:00:00:00\n",
      "40.1%. Run time:   0.39s. Est. time left: 00:00:00:00\n",
      "50.1%. Run time:   0.49s. Est. time left: 00:00:00:00\n",
      "60.1%. Run time:   0.59s. Est. time left: 00:00:00:00\n",
      "70.1%. Run time:   0.69s. Est. time left: 00:00:00:00\n",
      "80.1%. Run time:   0.78s. Est. time left: 00:00:00:00\n",
      "90.2%. Run time:   0.88s. Est. time left: 00:00:00:00\n",
      "100.0%. Run time:   0.98s. Est. time left: 00:00:00:00\n",
      "Total run time:   0.98s\n"
     ]
    }
   ],
   "source": [
    "HeOM_aaa = HEOMSolver(Hsys, aaabath, max_depth=3)\n",
    "result_aaa=HeOM_aaa.run(rho0,tlist)"
   ]
  },
  {
   "cell_type": "code",
   "execution_count": 93,
   "id": "af82f9f8",
   "metadata": {
    "slideshow": {
     "slide_type": "fragment"
    }
   },
   "outputs": [
    {
     "data": {
      "image/png": "[encoded data removed]",
      "text/plain": [
       "<Figure size 640x480 with 1 Axes>"
      ]
     },
     "metadata": {},
     "output_type": "display_data"
    }
   ],
   "source": [
    "expc=np.real(expect(results_ohmic_corr_fit.states,P12p))\n",
    "expa=np.real(expect(result_aaa.states,P12p))\n",
    "plt.plot(results_ohmic_corr_fit.times,exps)\n",
    "plt.plot(results_ohmic_corr_fit.times,expc,'-.')\n",
    "plt.plot(results_ohmic_corr_fit.times,expa,'-.')\n",
    "plt.show()"
   ]
  },
  {
   "cell_type": "code",
   "execution_count": 96,
   "id": "11ce91b4",
   "metadata": {},
   "outputs": [
    {
     "data": {
      "image/png": "[encoded data removed]",
      "text/plain": [
       "<Figure size 640x480 with 1 Axes>"
      ]
     },
     "metadata": {},
     "output_type": "display_data"
    }
   ],
   "source": [
    "expc=np.real(expect(results_ohmic_corr_fit.states,P11p))\n",
    "exps=np.real(expect(results_ohmic_spec_fit.states,P11p))\n",
    "expa=np.real(expect(result_aaa.states,P11p))\n",
    "plt.plot(results_ohmic_corr_fit.times,exps)\n",
    "plt.plot(results_ohmic_corr_fit.times,expc,'-.')\n",
    "plt.plot(results_ohmic_corr_fit.times,expa,'-.')\n",
    "plt.show()\n",
    "# change for original setup"
   ]
  },
  {
   "cell_type": "markdown",
   "id": "d059aba1",
   "metadata": {
    "slideshow": {
     "slide_type": "slide"
    }
   },
   "source": [
    "# A fairer comparison would be on an overdamped spectral density"
   ]
  },
  {
   "cell_type": "code",
   "execution_count": 98,
   "id": "cd097f0e",
   "metadata": {
    "slideshow": {
     "slide_type": "fragment"
    }
   },
   "outputs": [],
   "source": [
    "dbath = DrudeLorentzBath(Q=sigmax(), lam=0.05, gamma=5, T=10, Nk=14)\n",
    "F= lambda w: 2*dbath.spectral_density(w)*(1/(np.exp(w/dbath.T)-1) +1)\n",
    "r,pol,res,zer=aaa(F,Z,tol=1e-13)"
   ]
  },
  {
   "cell_type": "code",
   "execution_count": 99,
   "id": "116cc357",
   "metadata": {
    "slideshow": {
     "slide_type": "fragment"
    }
   },
   "outputs": [],
   "source": [
    "new_pols,new_res=filter_poles(pol,res)\n",
    "ckAR,ckAI=np.real(-1j*new_res),np.imag(-1j*new_res)\n",
    "vkAR,vkAI=np.real(1j*new_pols),np.imag(1j*new_pols)"
   ]
  },
  {
   "cell_type": "code",
   "execution_count": 100,
   "id": "93ea3e34",
   "metadata": {
    "slideshow": {
     "slide_type": "skip"
    }
   },
   "outputs": [],
   "source": [
    "w=np.linspace(0,50,1000)"
   ]
  },
  {
   "cell_type": "code",
   "execution_count": 102,
   "id": "50c41afd",
   "metadata": {
    "slideshow": {
     "slide_type": "fragment"
    }
   },
   "outputs": [
    {
     "name": "stdout",
     "output_type": "stream",
     "text": [
      "Result of fitting The Spectral Density with 8 terms: \n",
      " \n",
      " Parameters|   lam    |  gamma   |   w0 \n",
      " 1         | 9.55e-01 | 5.66e+00 |5.01e-01\n",
      " 2         | 5.00e+00 | 2.72e+01 |3.67e+01\n",
      " 3         | 5.00e+00 | 2.00e+01 |1.98e+01\n",
      " 4         | 5.00e+00 | 2.04e+01 |6.04e+01\n",
      " 5         | 5.00e+00 | 1.56e+01 |8.60e+00\n",
      " 6         | 5.00e+00 | 2.52e+01 |5.45e+01\n",
      " 7         | 3.50e+00 | 9.72e+00 |5.01e-01\n",
      " 8         | 5.00e+00 | 2.61e+01 |3.28e+01\n",
      " \n",
      "A  normalized RMSE of  9.46e-07 was obtained for the The Spectral Density\n",
      " The current fit took  27.052593 seconds\n"
     ]
    }
   ],
   "source": [
    "fsd=SpectralFitter(T=dbath.T,Q=sigmax(),w=w,J=lambda w:dbath.spectral_density(w))\n",
    "baths,fitinfo=fsd.get_fit(N=8,Nk=5)\n",
    "print(fitinfo['summary'])"
   ]
  },
  {
   "cell_type": "code",
   "execution_count": 103,
   "id": "5fdcd0ac",
   "metadata": {
    "slideshow": {
     "slide_type": "slide"
    }
   },
   "outputs": [
    {
     "name": "stdout",
     "output_type": "stream",
     "text": [
      "Fit correlation class instance: \n",
      " \n",
      "Result of fitting The Real Part Of                                      |Result of fitting The Imaginary Part                                    \n",
      " the Correlation Function with 4 terms:                                 | Of the Correlation Function with 4 terms:                              \n",
      "                                                                        |                                                                        \n",
      " Parameters|    a     |    b     |    c                                 | Parameters|    a     |    b     |    c                                 \n",
      " 1         |-2.48e-01 |-2.76e+01 |2.96e+00                              | 1         |-3.03e+00 |-3.59e+01 |2.41e+00                              \n",
      " 2         | 9.34e-03 |-6.09e+00 |1.31e+00                              | 2         |-3.01e+00 |-1.71e+01 |9.81e-01                              \n",
      " 3         | 9.69e-01 |-4.99e+00 |9.17e-02                              | 3         |-3.01e+00 |-5.69e+00 |1.51e-01                              \n",
      " 4         | 2.76e-01 |-2.88e+01 |1.60e-02                              | 4         |-2.99e+00 |-9.05e+00 |4.35e-01                              \n",
      "                                                                        |                                                                        \n",
      "A  normalized RMSE of  1.02e-09 was obtained for the The Real Part Of   |A  normalized RMSE of  8.45e-08 was obtained for the The Imaginary Part \n",
      " the Correlation Function                                               | Of the Correlation Function                                            \n",
      " The current fit took  31.347202 seconds                                | The current fit took  35.881993 seconds                                \n",
      "\n"
     ]
    }
   ],
   "source": [
    "csd=CorrelationFitter(T=dbath.T,Q=sigmax(),t=np.linspace(0.1,50,1000),C=dbath.correlation_function)\n",
    "bathc,fitinfo=csd.get_fit(Ni=4,Nr=4)\n",
    "print(fitinfo['summary'])"
   ]
  },
  {
   "cell_type": "code",
   "execution_count": 104,
   "id": "6cba7430",
   "metadata": {
    "slideshow": {
     "slide_type": "fragment"
    }
   },
   "outputs": [
    {
     "name": "stdout",
     "output_type": "stream",
     "text": [
      "10.0%. Run time:   0.16s. Est. time left: 00:00:00:01\n",
      "20.0%. Run time:   0.30s. Est. time left: 00:00:00:01\n",
      "30.1%. Run time:   0.43s. Est. time left: 00:00:00:00\n",
      "40.1%. Run time:   0.55s. Est. time left: 00:00:00:00\n",
      "50.1%. Run time:   0.67s. Est. time left: 00:00:00:00\n",
      "60.1%. Run time:   0.79s. Est. time left: 00:00:00:00\n",
      "70.1%. Run time:   0.92s. Est. time left: 00:00:00:00\n",
      "80.2%. Run time:   1.04s. Est. time left: 00:00:00:00\n",
      "90.2%. Run time:   1.16s. Est. time left: 00:00:00:00\n",
      "100.0%. Run time:   1.28s. Est. time left: 00:00:00:00\n",
      "Total run time:   1.28s\n"
     ]
    }
   ],
   "source": [
    "tlist=np.linspace(0,15,500)\n",
    "aaaBathd=BosonicBath(sigmax(),ckAR,vkAR+1j*vkAI,ckAI,vkAR+1j*vkAI)\n",
    "HeOM_aaad = HEOMSolver(Hsys, aaaBathd, max_depth=3)\n",
    "result_aaad=HeOM_aaad.run(rho0,tlist)"
   ]
  },
  {
   "cell_type": "code",
   "execution_count": 105,
   "id": "0672a45d",
   "metadata": {
    "slideshow": {
     "slide_type": "fragment"
    }
   },
   "outputs": [
    {
     "name": "stdout",
     "output_type": "stream",
     "text": [
      "10.0%. Run time:   1.31s. Est. time left: 00:00:00:11\n",
      "20.0%. Run time:   2.65s. Est. time left: 00:00:00:10\n",
      "30.1%. Run time:   3.97s. Est. time left: 00:00:00:09\n",
      "40.1%. Run time:   5.62s. Est. time left: 00:00:00:08\n",
      "50.1%. Run time:   7.19s. Est. time left: 00:00:00:07\n",
      "60.1%. Run time:   9.38s. Est. time left: 00:00:00:06\n",
      "70.1%. Run time:  12.09s. Est. time left: 00:00:00:05\n",
      "80.2%. Run time:  14.31s. Est. time left: 00:00:00:03\n",
      "90.2%. Run time:  17.07s. Est. time left: 00:00:00:01\n",
      "100.0%. Run time:  19.75s. Est. time left: 00:00:00:00\n",
      "Total run time:  19.75s\n"
     ]
    }
   ],
   "source": [
    "HEOM_g = HEOMSolver(Hsys, dbath, max_depth=3)\n",
    "result=HEOM_g.run(rho0,tlist)"
   ]
  },
  {
   "cell_type": "code",
   "execution_count": 106,
   "id": "700c2806",
   "metadata": {
    "slideshow": {
     "slide_type": "skip"
    }
   },
   "outputs": [
    {
     "name": "stdout",
     "output_type": "stream",
     "text": [
      "10.0%. Run time:   1.74s. Est. time left: 00:00:00:15\n",
      "20.0%. Run time:   3.66s. Est. time left: 00:00:00:14\n",
      "30.1%. Run time:   5.48s. Est. time left: 00:00:00:12\n",
      "40.1%. Run time:   7.44s. Est. time left: 00:00:00:11\n",
      "50.1%. Run time:  10.29s. Est. time left: 00:00:00:10\n",
      "60.1%. Run time:  13.27s. Est. time left: 00:00:00:08\n",
      "70.1%. Run time:  15.67s. Est. time left: 00:00:00:06\n",
      "80.2%. Run time:  17.88s. Est. time left: 00:00:00:04\n",
      "90.2%. Run time:  19.52s. Est. time left: 00:00:00:02\n",
      "100.0%. Run time:  20.90s. Est. time left: 00:00:00:00\n",
      "Total run time:  20.90s\n"
     ]
    }
   ],
   "source": [
    "HEOM_s = HEOMSolver(Hsys, baths, max_depth=3)\n",
    "result_s=HEOM_s.run(rho0,tlist)"
   ]
  },
  {
   "cell_type": "code",
   "execution_count": 107,
   "id": "53c690a6",
   "metadata": {
    "slideshow": {
     "slide_type": "skip"
    }
   },
   "outputs": [
    {
     "name": "stdout",
     "output_type": "stream",
     "text": [
      "10.0%. Run time:   0.09s. Est. time left: 00:00:00:00\n",
      "20.0%. Run time:   0.18s. Est. time left: 00:00:00:00\n",
      "30.1%. Run time:   0.26s. Est. time left: 00:00:00:00\n",
      "40.1%. Run time:   0.35s. Est. time left: 00:00:00:00\n",
      "50.1%. Run time:   0.43s. Est. time left: 00:00:00:00\n",
      "60.1%. Run time:   0.51s. Est. time left: 00:00:00:00\n",
      "70.1%. Run time:   0.59s. Est. time left: 00:00:00:00\n",
      "80.2%. Run time:   0.67s. Est. time left: 00:00:00:00\n",
      "90.2%. Run time:   0.76s. Est. time left: 00:00:00:00\n",
      "100.0%. Run time:   0.84s. Est. time left: 00:00:00:00\n",
      "Total run time:   0.84s\n"
     ]
    }
   ],
   "source": [
    "HEOM_c = HEOMSolver(Hsys, bathc, max_depth=3)\n",
    "result_c=HEOM_c.run(rho0,tlist)"
   ]
  },
  {
   "cell_type": "code",
   "execution_count": 108,
   "id": "ba56bbd9",
   "metadata": {
    "slideshow": {
     "slide_type": "slide"
    }
   },
   "outputs": [
    {
     "data": {
      "image/png": "[encoded data removed]",
      "text/plain": [
       "<Figure size 640x480 with 1 Axes>"
      ]
     },
     "metadata": {},
     "output_type": "display_data"
    }
   ],
   "source": [
    "expc=np.real(expect(result.states,P12p))\n",
    "expa=np.real(expect(result_aaad.states,P12p))\n",
    "exps=np.real(expect(result_s.states,P12p))\n",
    "expcc=np.real(expect(result_c.states,P12p))\n",
    "plt.plot(result.times,expc,label='Matsubara Decomposition')\n",
    "plt.plot(result.times,expa,'-.',label='AAA Fit')\n",
    "plt.scatter(result.times,exps,s=20,color='g',marker='x',label='Spectral Fit')\n",
    "plt.scatter(result.times,exps,s=10,color='r',label='Correlation Fit')\n",
    "plt.legend()\n",
    "plt.show()"
   ]
  },
  {
   "cell_type": "code",
   "execution_count": 109,
   "id": "95776500",
   "metadata": {
    "slideshow": {
     "slide_type": "slide"
    }
   },
   "outputs": [
    {
     "data": {
      "image/png": "[encoded data removed]",
      "text/plain": [
       "<Figure size 640x480 with 1 Axes>"
      ]
     },
     "metadata": {},
     "output_type": "display_data"
    }
   ],
   "source": [
    "expc=np.real(expect(result.states,P11p))\n",
    "expa=np.real(expect(result_aaad.states,P11p))\n",
    "exps=np.real(expect(result_s.states,P11p))\n",
    "expcc=np.real(expect(result_c.states,P11p))\n",
    "plt.plot(result.times,expc,label='Matsubara Decomposition')\n",
    "plt.plot(result.times,expa,'-.',label='AAA Fit')\n",
    "plt.scatter(result.times,exps,s=20,color='g',marker='x',label='Spectral Fit')\n",
    "plt.scatter(result.times,exps,s=10,color='r',label='Correlation Fit')\n",
    "plt.legend()\n",
    "plt.show()"
   ]
  },
  {
   "cell_type": "markdown",
   "id": "082c1917",
   "metadata": {
    "slideshow": {
     "slide_type": "slide"
    }
   },
   "source": [
    "# New properties for Bosonic Baths\n",
    "\n",
    "\n",
    "Now one is able to obtain the approximation used in HEOM and the real quantities for the following charaterisctics of the bath, this is specially useful to know wheter one is using an adequate number of exponents, while not critical for higher Temperature simulations, it becomes extremely important for low Temperature baths\n"
   ]
  },
  {
   "cell_type": "code",
   "execution_count": 72,
   "id": "9d8f424e",
   "metadata": {
    "slideshow": {
     "slide_type": "fragment"
    }
   },
   "outputs": [],
   "source": [
    "bathu = UnderDampedBath(Q=sigmax(), lam=0.5, gamma=1, T=0.1, Nk=1,w0=1)\n",
    "C=bathu.correlation_function(tlist)"
   ]
  },
  {
   "cell_type": "code",
   "execution_count": 73,
   "id": "af5e1de9",
   "metadata": {
    "slideshow": {
     "slide_type": "skip"
    }
   },
   "outputs": [],
   "source": [
    "from ipywidgets import interact, interactive, fixed, interact_manual\n",
    "import ipywidgets as widgets"
   ]
  },
  {
   "cell_type": "code",
   "execution_count": 75,
   "id": "ec14a9f2",
   "metadata": {
    "slideshow": {
     "slide_type": "fragment"
    }
   },
   "outputs": [
    {
     "data": {
      "application/vnd.jupyter.widget-view+json": {
       "model_id": "f5ea49fcc6584a35ad7f8290ffa7fb6f",
       "version_major": 2,
       "version_minor": 0
      },
      "text/plain": [
       "interactive(children=(IntSlider(value=1, description='x', min=1), Output()), _dom_classes=('widget-interact',)…"
      ]
     },
     "metadata": {},
     "output_type": "display_data"
    }
   ],
   "source": [
    "@interact(x=(1,100))\n",
    "def corr_approx_plot(x=1):\n",
    "    fig, (ax1, ax2) = plt.subplots(2, 1, layout='constrained')\n",
    "    bath = UnderDampedBath(Q=sigmax(), lam=0.5, gamma=1, T=0.01, Nk=x,w0=1)\n",
    "    ax1.plot(tlist,C)\n",
    "    ax1.plot(tlist,bath.correlation_function_approx(tlist),'-.')\n",
    "    ax2.plot(tlist,np.imag(C))\n",
    "    ax2.plot(tlist,np.imag(bath.correlation_function_approx(tlist)),'-.')\n",
    "    \n",
    "    return plt.show()"
   ]
  },
  {
   "cell_type": "code",
   "execution_count": 58,
   "id": "0af9a740",
   "metadata": {
    "slideshow": {
     "slide_type": "slide"
    }
   },
   "outputs": [
    {
     "data": {
      "application/vnd.jupyter.widget-view+json": {
       "model_id": "75276f819a8145049f158ea32984379a",
       "version_major": 2,
       "version_minor": 0
      },
      "text/plain": [
       "interactive(children=(IntSlider(value=1, description='x', min=1), Output()), _dom_classes=('widget-interact',)…"
      ]
     },
     "metadata": {},
     "output_type": "display_data"
    }
   ],
   "source": [
    "@interact(x=(1,100))\n",
    "def spec_approx_plot(x=1):\n",
    "    w=np.linspace(0,10,1000)\n",
    "    bath = UnderDampedBath(Q=sigmax(), lam=0.5, gamma=1, T=0.01, Nk=x,w0=1)\n",
    "    plt.plot(w,bath.spectral_density(w))\n",
    "    plt.plot(w,bath.spectral_density_approx(w),'-.')\n",
    "    return plt.show()"
   ]
  },
  {
   "cell_type": "code",
   "execution_count": 59,
   "id": "f84acb97",
   "metadata": {
    "slideshow": {
     "slide_type": "slide"
    }
   },
   "outputs": [
    {
     "data": {
      "application/vnd.jupyter.widget-view+json": {
       "model_id": "a4590a72a9b44c1fb62c75c1c65e2319",
       "version_major": 2,
       "version_minor": 0
      },
      "text/plain": [
       "interactive(children=(IntSlider(value=1, description='x', max=50, min=1), Output()), _dom_classes=('widget-int…"
      ]
     },
     "metadata": {},
     "output_type": "display_data"
    }
   ],
   "source": [
    "@interact(x=(1,50))\n",
    "def spectrum_approx_plot(x=1):\n",
    "    w=np.linspace(-10,10,1000)\n",
    "    bath = UnderDampedBath(Q=sigmax(), lam=0.5, gamma=1, T=0.01, Nk=x,w0=1)\n",
    "    plt.plot(w,bath.power_spectrum(w))\n",
    "    plt.plot(w,bath.power_spectrum_approx(w),'-.')\n",
    "    return plt.show()"
   ]
  },
  {
   "cell_type": "markdown",
   "id": "489287b8",
   "metadata": {},
   "source": [
    "# Benchmarks of the cumulant equation"
   ]
  },
  {
   "cell_type": "code",
   "execution_count": null,
   "id": "51f3a6d1",
   "metadata": {},
   "outputs": [],
   "source": [
    "from nmm import csolve,redfield,Qobj"
   ]
  }
 ],
 "metadata": {
  "celltoolbar": "Slideshow",
  "kernelspec": {
   "display_name": "Python 3 (ipykernel)",
   "language": "python",
   "name": "python3"
  },
  "language_info": {
   "codemirror_mode": {
    "name": "ipython",
    "version": 3
   },
   "file_extension": ".py",
   "mimetype": "text/x-python",
   "name": "python",
   "nbconvert_exporter": "python",
   "pygments_lexer": "ipython3",
   "version": "3.9.0"
  }
 },
 "nbformat": 4,
 "nbformat_minor": 5
}
