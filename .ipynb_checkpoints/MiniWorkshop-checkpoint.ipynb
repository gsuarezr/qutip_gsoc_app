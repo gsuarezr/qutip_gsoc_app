{
 "cells": [
  {
   "cell_type": "markdown",
   "id": "90684edb",
   "metadata": {
    "slideshow": {
     "slide_type": "slide"
    },
    "tags": []
   },
   "source": [
    "#### HEOM in a Nutshell\n",
    "\n",
    "\n",
    "##### In words: \n",
    "\n",
    "The HEOM method solves the dynamics and steady state of a system and its environment when they are linearly coupled, in HEOM the bath information is encoded in a set of auxiliary density matrices (ADOS) . The properties of the system are encoded in its Hamiltonian, and an operator which describes its coupling to the environment, The bath parameters are encoded in the spectral density, and subsequently the free-bath correlation function (and also its spectrum). In order to solve the dynamics, both the number of ADOS and the correlation function are approximated, One would typycally increase this values untill one sees convergence\n",
    "\n",
    "##### The real deal\n",
    "\n",
    "This translates into describing systems whose Hamiltonian is given by:\n",
    "\n",
    "\\begin{align}\n",
    "H=H_{S}+H_{B}+H_{SB} \\\\\n",
    "H_{SB}=B(t)\\otimes S(t)\n",
    "\\end{align}\n",
    "\n",
    "Where $B(t)$ is the bath operator\n",
    "\n",
    "\\begin{equation}\n",
    "B(t)= \\sum_{k} \\left( f(t) a^{\\dagger}_{k} + \\overline{f(t)} a_{k} \\right)\n",
    "\\end{equation}\n",
    "\n",
    "and $S(t)$ a system operator, what this means is that this is only valid for linear interactions with the bath. We further make a couple more assumptions"
   ]
  },
  {
   "cell_type": "markdown",
   "id": "fcf5cd34",
   "metadata": {
    "slideshow": {
     "slide_type": "slide"
    },
    "tags": []
   },
   "source": [
    "## Asumptions\n",
    "\n",
    "- The system is linealy coupled to the environment\n",
    "\n",
    "- The bath is in thermal equilibrium\n",
    "\n",
    "\\begin{equation}\n",
    "\\rho_{B}(0) = \\frac{e^{\\beta H_{B}}}{Tr(e^{\\beta H_{B}})}\n",
    "\\end{equation}\n",
    "\n",
    "This makes things easier as we now only need to look at odd moments\n",
    "\n",
    "\\begin{equation}\n",
    "Tr(a\\rho_{B}(0))=0\n",
    "\\end{equation}\n",
    "\n",
    "\n",
    "- At time $t=0$ the system and bath are described by a product state\n",
    "\n",
    "\\begin{equation}\n",
    "\\rho(0) = \\rho_{B}(0) \\otimes \\rho_{S}(0)\n",
    "\\end{equation}\n",
    "\n",
    "\n"
   ]
  },
  {
   "cell_type": "markdown",
   "id": "92fb7213",
   "metadata": {
    "slideshow": {
     "slide_type": "slide"
    }
   },
   "source": [
    "### Derivation in a Nutshell:\n",
    "\n",
    "In the interaction picture the von neuman equation for the evolution of the full density matrix is given by:\n",
    "\n",
    "\\begin{equation}\n",
    "\\rho(t) = \\frac{-i}{\\hbar} [H_{SB}(t),\\rho(t)]\n",
    "\\end{equation}\n",
    "\n",
    "Which has the formal solution\n",
    "\n",
    "\\begin{equation}\n",
    "\\rho(t)=\\mathcal{T}  e^{\\frac{-i}{\\hbar} \\int_{0}^{t} [H_{SB}(\\tau), \\bullet ] d\\tau} \\rho(0)\n",
    "\\end{equation}\n",
    "\n",
    "If we now take a partial trace with respect to the bath, and expand the exponential into its series we obtain\n",
    "\n",
    "\\begin{equation}\n",
    "\\rho_{S}(t)= Tr_{B}\\left[ \\mathcal{T} \\sum_{n=0}^{\\infty}\\frac{1}{n!} \\left( \\frac{-i}{\\hbar} \\int_{0}^{t} [H_{SB}(\\tau), \\dot ] d\\tau\\right)^{n} \\rho_{B}(0) \\otimes \\rho_{S}(0) \\right] = \\sum_{n=0}^{\\infty} \\rho_{n}(t)\n",
    "\\end{equation}\n",
    "\n",
    "Now since we assumed linear coupling and an equilibrium bath\n",
    "\n",
    "\\begin{equation}\n",
    "Tr(B(t)\\rho_{B}(0))=0\n",
    "\\end{equation}\n",
    "\n",
    "wich means \n",
    "\n",
    "\\begin{equation}\n",
    "\\rho_{2n+1}=0 \\hspace{0.3cm} \\forall n\n",
    "\\end{equation}\n",
    "\n",
    "Thus\n",
    "\n",
    "\\begin{equation}\n",
    "\\rho_{S}(t) = \\sum_{2n=0}^{\\infty} \\rho_{2n}(t)\n",
    "\\end{equation}\n"
   ]
  },
  {
   "cell_type": "markdown",
   "id": "6949fb2f",
   "metadata": {
    "slideshow": {
     "slide_type": "slide"
    }
   },
   "source": [
    "#### Derivation in a Nutshell 2:\n",
    "\n",
    "Since the coupling is linear and we are in a thermal state, the bath remains gaussian through the evolution so we can use Wicks' Theorem to obtain all correlators in terms of second order correlators. After some algebra (details can be seen [here](tuculo.com)) we can write he second order correlator as \n",
    "\n",
    "\\begin{equation}\n",
    "\\rho_{2}(t) = \\frac{-1}{\\hbar^{2}} \\int_{0}^{t}dt_{2}\\int_{0}^{t_{2}}dt_{1}  \\left( \\Gamma(t_{2}-t_{1}) [S(t_{2}),[S(t_{1}),\\bullet]] - i \\xi(t_{2}-t_{1}) [S(t_{2}),\\{S(t_{1}),\\bullet\\}] \\right) \\rho_{S}(0)\n",
    "\\end{equation}\n",
    "\n",
    "and higher powers are given by:\n",
    "\n",
    "\\begin{equation}\n",
    "\\rho_{2n}(t) = \\frac{(-1)^{n}}{\\hbar^{2n} n!} \\int_{0}^{t}dt_{2}\\int_{0}^{t_{2}}dt_{1}  \\left( \\Gamma(t_{2}-t_{1}) [S(t_{2}),[S(t_{1}),\\bullet]] - i \\xi(t_{2}-t_{1}) [S(t_{2}),\\{S(t_{1}),\\bullet\\}] \\right)^{2n} \\rho_{S}(0)\n",
    "\\end{equation}\n",
    "\n",
    "So Finally one has\n",
    "\n",
    "\\begin{equation}\n",
    "\\rho_{S}(t)=\\mathcal{T}e^{\\frac{-1}{\\hbar^{2}} \\int_{0}^{t}dt_{2}\\int_{0}^{t_{2}}dt_{1}  \\left( \\Gamma(t_{2}-t_{1}) [S(t_{2}),[S(t_{1}),\\bullet]] - i \\xi(t_{2}-t_{1}) [S(t_{2}),\\{S(t_{1}),\\bullet\\}] \\right)} \\rho_{S}(0)\n",
    "\\end{equation}\n",
    "\n",
    "\n",
    "Where\n",
    "\n",
    "\\begin{align}\n",
    "\\Gamma(\\tau)=Re(C(\\tau))=Re(\\langle B(\\tau) B(0) \\rangle) \\\\\n",
    "\\xi(\\tau)=Im(C(\\tau))=Im(\\langle B(\\tau) B(0) \\rangle)\n",
    "\\end{align}\n",
    "\n",
    "This is still a hard problem to solve, however if we assume more about the baths, we can derive the so called hierarchy\n",
    "\n",
    "\n"
   ]
  },
  {
   "cell_type": "markdown",
   "id": "f7ece8d7",
   "metadata": {
    "slideshow": {
     "slide_type": "slide"
    }
   },
   "source": [
    "#### Simplification\n",
    "\n",
    "Let us assume that the spectral density of the bath is such that we can express our bath correlation function as\n",
    "\n",
    "\\begin{equation}\n",
    "\\langle B(\\tau) B(0) \\rangle = \\int_{-\\infty}^{\\infty} J(\\omega) \\left( coth\\left(\\frac{\\hbar \\beta \\omega}{2}\\right) cos(\\omega t) - i sin(\\omega t)\\right) d\\omega = \\sum_{k=0}^{\\infty}C_{n}e^{-\\nu_{n} \\tau} \n",
    "\\end{equation}\n",
    "\n",
    "\n",
    "\n",
    "#### Notice in qutip this definition is divided by $\\pi$\n",
    "\n",
    "By substituting this into the previous equations and taking a time derivative one obtains:\n",
    "\n",
    "$$\\dot{\\rho_{s}(t)}= -i \\left(\\mathcal{L_{S}} -\\sum_{k=K+1}^{\\infty} \\frac{\\Phi \\theta_{k}}{\\nu_{k}} \\right)\\rho_{S}(t) + \\Phi \\sum_{k=0}^{K}\\sigma^{(1)}_{(0,\\dots,1_{k},\\dots,0)}$$\n",
    "\n",
    "\n"
   ]
  },
  {
   "cell_type": "markdown",
   "id": "21724ff9",
   "metadata": {
    "slideshow": {
     "slide_type": "slide"
    }
   },
   "source": [
    "where\n",
    "\n",
    "$$\\Phi=i\\{S(t),\\bullet \\}$$\n",
    "\n",
    "$$\\theta_{k}=\\frac{i}{\\hbar} \\left( c_{k}^{R} \\{S(t),\\bullet \\}+ c_{k}^{I} [S(t),\\bullet ] \\right) $$\n",
    "\n",
    "$$\\sigma^{(1)}_{(0,\\dots,1_{k},\\dots,0)}=U_{0}^{\\dagger}(t)\\mathcal{T}\\int_{0}^{t} d\\tau e^{\\nu_{k}(t-\\tau)} \\theta_{k}(\\tau) \\rho_{S}^{I} U_{0}(t)$$\n",
    "\n",
    "The idea of the hierarchy is not to solve the equation directly byt to treat $\\sigma_{1}$ and obtain its evolution, which will be given by a another function for which will do the same, this are the ADOS, the hierarchy is at some point truncated and the equations are solved\n",
    "\n",
    "$$\\dot{\\sigma^{(n)}_{(j_{0},\\dots,j_{n},\\dots,j_{K})}} = -i \\left(\\mathcal{L_{S}} -\\sum_{k=K+1}^{\\infty} \\frac{\\Phi \\theta_{k}}{\\nu_{k}}+\\sum_{k=0}^{K}j_{k}\\nu_{k} \\right) \\sigma^{(n)}_{(j_{0},\\dots,j_{n},\\dots,j_{K})}  +\\sum_{k} j_{k} \\theta_{k} \\sigma^{(n-1)}_{(j_{0},\\dots,j_{n},\\dots,j_{K})} + \\Phi \\sum_{k}\\sigma^{(n+1)}_{(j_{0},\\dots,j_{n},\\dots,j_{K})}$$\n",
    "\n",
    "$n=\\sum_{k}j_{k}$"
   ]
  },
  {
   "cell_type": "markdown",
   "id": "e0b3af69",
   "metadata": {
    "slideshow": {
     "slide_type": "slide"
    }
   },
   "source": [
    "##### The common spectral densities that satisfy this for bosonic baths  are the underdamped and the overdamped brownian motion spectral densities \n",
    "\n",
    "$$J_{OD} = \\frac{2\\lambda \\gamma \\omega}{(\\gamma^2 + \\omega^2)}$$\n",
    "\n",
    "\\begin{equation}\n",
    "J_{UD}(\\omega,a,b,c) =\\frac{2 a_i b_i w}{((w + c_i)^2 + b_i^2) ((w - c_i)^2 + b_i^2)} =\\frac{\\alpha^2 \\Gamma \\omega}{(\\omega_c^2 - \\omega^2)^2 + \\Gamma^2 \\omega^2)}.\n",
    "\\end{equation}\n",
    "\n",
    "And for those one an expression for the $C_{n}$ and $\\nu_{n}$ required to solve HEOM. however notice that the spectral densities are of lorentzian form and they tend to deltas in a limit, as such one may use combinations of them to approximate any function, in particular other spectral densities, similarly one may fit the a correlation function as a series of exponential decaying series, or even the power spectrum, from which one can recover the correlation function such that one may write:\n",
    "\n",
    "\\begin{equation}\n",
    "J(w)\\approx\\sum_{k=0}^{M} J_{UD}(\\omega,a_{k},b_{k},c_{k})\n",
    "\\end{equation}\n",
    "\n",
    "and find the set of coefficients via nonlinear fitting, similarly one can do the same for the correlation function\n",
    "\n",
    " $$C(\\tau) \\approx \\sum_{k=0}^{k_{R}}a_{k}e^{-b_{k} \\tau} cos(c_{k} \\tau) + i \\sum_{k=0}^{k_{R}}d_{k} e^{-e_{k} \\tau} sin(f_{k} \\tau) \\approx \\sum_{k} C_{UD}(\\tau,a_{k},b_{k},c_{k}) $$\n",
    "\n",
    "\n",
    "\n"
   ]
  },
  {
   "cell_type": "markdown",
   "id": "ef2a2e2f",
   "metadata": {
    "slideshow": {
     "slide_type": "subslide"
    }
   },
   "source": [
    "\n",
    "For an underdamped spectral density\n",
    "\n",
    "\\begin{equation*}\n",
    "    C_k^R = \\begin{cases}\n",
    "               \\alpha^2 \\coth(\\beta( \\Omega + i\\Gamma/2)/2)/4\\Omega & k = 0\\\\\n",
    "               \\alpha^2 \\coth(\\beta( \\Omega - i\\Gamma/2)/2)/4\\Omega & k = 0\\\\\n",
    "              -2\\alpha^2\\Gamma/\\beta \\frac{\\epsilon_k }{((\\Omega + i\\Gamma/2)^2 + \\epsilon_k^2)(\\Omega - i\\Gamma/2)^2 + \\epsilon_k^2)}      & k \\geq 1\\\\\n",
    "           \\end{cases}\n",
    "\\end{equation*}\n",
    "\n",
    "\\begin{equation*}\n",
    "    \\nu_k^R = \\begin{cases}\n",
    "               -i\\Omega  + \\Gamma/2, i\\Omega  +\\Gamma/2,             & k = 0\\\\\n",
    "               {2 \\pi k} / {\\beta }  & k \\geq 1\\\\\n",
    "           \\end{cases}\n",
    "\\end{equation*}\n",
    "\n",
    "\n",
    "\n",
    "\n",
    "\\begin{equation*}\n",
    "    C_k^I = \\begin{cases}\n",
    "               i\\alpha^2 /4\\Omega & k = 0\\\\\n",
    "                -i\\alpha^2 /4\\Omega & k = 0\\\\\n",
    "           \\end{cases}\n",
    "\\end{equation*}\n",
    "\n",
    "\\begin{equation*}\n",
    "    \\nu_k^I = \\begin{cases}\n",
    "               i\\Omega  + \\Gamma/2, -i\\Omega  + \\Gamma/2,             & k = 0\\\\\n",
    "           \\end{cases}\n",
    "\\end{equation*}\n",
    "\n",
    "and $\\Omega=\\sqrt{\\omega_{c}^{2}-\\left(\\frac{\\Gamma}{2}\\right)^{2}}$ and we do the fitting for the real and imaginary parts separately"
   ]
  },
  {
   "cell_type": "markdown",
   "id": "00e914f6",
   "metadata": {
    "slideshow": {
     "slide_type": "slide"
    }
   },
   "source": [
    "### About the Fitting Procedure\n",
    "\n",
    "Now that we have established we can simulate arbitrary baths through fitting, let us get to it previously on qutip 4.7 we could do the fitting and construct the bath manually. Doing it manualy requires certain considerations such as:\n",
    "\n",
    "- The initial guesses for the nonlinear fitting algorithm -> This PR includes appropiate defaults for common spectral densities, \n",
    "- After Fitting is the fit good? -> In this PR, we measure the Goodness of Fit via Normalize Root mean Squared Error\n",
    "- The number of terms to use for the fit -> Can be found automatically by indicating the minumum RMSE required\n",
    "- Do my fitted functions represent well my bath correlation function with a small number of exponents each? should I increase it? -> We provide easy ways to check this in this PR\n",
    "- After fitting how do I get back the other quantities ? i.e the spectral density associated to the correlation function -> Commands to obtain the other properties are included in this PR\n",
    "\n",
    "see [tutorial](https://nbviewer.org/urls/qutip.org/qutip-tutorials/tutorials-v4/heom/heom-1d-spin-bath-model-ohmic-fitting.ipynb)\n",
    "\n",
    "I implemented functions to achieve this without the hassle of doing everything in the tutorial, for arbitrary spectral densities or correlation functions"
   ]
  },
  {
   "cell_type": "code",
   "execution_count": 26,
   "id": "23a6987a",
   "metadata": {
    "slideshow": {
     "slide_type": "skip"
    }
   },
   "outputs": [],
   "source": [
    "import numpy as np\n",
    "import latexify\n",
    "import qutip\n",
    "from qutip import (\n",
    "    basis,\n",
    "    expect,\n",
    "    liouvillian,\n",
    "    sigmax,\n",
    "    sigmaz,\n",
    "    sigmap,\n",
    "    Qobj\n",
    ")\n",
    "from qutip.solver.heom import (\n",
    "    HEOMSolver,\n",
    "    SpectralFitter,\n",
    "    CorrelationFitter,\n",
    "    OhmicBath,\n",
    "    BosonicBath,\n",
    "    DrudeLorentzBath,\n",
    "    UnderDampedBath\n",
    ")\n",
    "import warnings\n",
    "warnings.filterwarnings('ignore')\n"
   ]
  },
  {
   "cell_type": "code",
   "execution_count": 2,
   "id": "6db21994",
   "metadata": {
    "slideshow": {
     "slide_type": "slide"
    }
   },
   "outputs": [
    {
     "data": {
      "text/latex": [
       "$$ \\displaystyle J(w, α, \\mathrm{wc}) = α w \\cdot \\exp \\mathopen{}\\left( \\frac{-\\mathopen{}\\left| w \\mathclose{}\\right|}{\\mathrm{wc}} \\mathclose{}\\right) $$"
      ],
      "text/plain": [
       "<latexify.ipython_wrappers.LatexifiedFunction at 0x7bbc46a9b1f0>"
      ]
     },
     "execution_count": 2,
     "metadata": {},
     "output_type": "execute_result"
    }
   ],
   "source": [
    "@latexify.function\n",
    "def J(w, α,wc=1):\n",
    "    \"\"\" The Ohmic bath spectral density as a function of w\n",
    "        (and the bath parameters).\n",
    "    \"\"\"\n",
    "    return α*w*np.exp(-abs(w)/wc)\n",
    "J"
   ]
  },
  {
   "cell_type": "code",
   "execution_count": 3,
   "id": "57b378e3",
   "metadata": {
    "slideshow": {
     "slide_type": "fragment"
    }
   },
   "outputs": [],
   "source": [
    "Q = sigmax()\n",
    "alpha = 0.5\n",
    "T = 1\n",
    "wc= 5.0"
   ]
  },
  {
   "cell_type": "code",
   "execution_count": 4,
   "id": "6378b2ca",
   "metadata": {
    "slideshow": {
     "slide_type": "fragment"
    }
   },
   "outputs": [],
   "source": [
    "w = np.linspace(0, 50, 2000)\n",
    "J_array=J(w,alpha,wc)\n",
    "J_fun=lambda w:J(w,alpha,wc)"
   ]
  },
  {
   "cell_type": "code",
   "execution_count": 5,
   "id": "0b66edfe",
   "metadata": {
    "slideshow": {
     "slide_type": "skip"
    }
   },
   "outputs": [],
   "source": [
    "import matplotlib.pyplot as plt"
   ]
  },
  {
   "cell_type": "code",
   "execution_count": 6,
   "id": "4ef210e7",
   "metadata": {
    "slideshow": {
     "slide_type": "skip"
    }
   },
   "outputs": [
    {
     "data": {
      "text/plain": [
       "[<matplotlib.lines.Line2D at 0x7bbc28ef3970>]"
      ]
     },
     "execution_count": 6,
     "metadata": {},
     "output_type": "execute_result"
    },
    {
     "data": {
      "image/png": "[encoded data removed]",
      "text/plain": [
       "<Figure size 640x480 with 1 Axes>"
      ]
     },
     "metadata": {},
     "output_type": "display_data"
    }
   ],
   "source": [
    "plt.plot(w,J_array)"
   ]
  },
  {
   "cell_type": "markdown",
   "id": "f94da9c6",
   "metadata": {
    "slideshow": {
     "slide_type": "slide"
    }
   },
   "source": [
    "The most common bath one may want to fit for bosonic systems is perhaps an exponential cutoff whose spectral density is usually written as\n",
    "\n",
    "\\begin{equation}\n",
    "J(\\omega) =  \\alpha \\omega_{c} \\left(\\frac{\\omega}{\\omega_{c}} \\right)^{s} e^{- \\frac{\\omega}{\\omega_c}}\n",
    "\\end{equation}\n",
    "\n",
    "And its correlation function by\n",
    "\n",
    "\\begin{align}\n",
    "C(t) =& \\: \\frac{1}{\\pi}\\alpha \\omega_{c}^{1 - s} \\beta^{- (s + 1)} \\: \\times \\\\\n",
    "      & \\: \\Gamma(s + 1) \\left[ \\zeta \\left(s + 1, \\frac{1 + \\beta \\omega_c - i \\omega_c t}{\\beta \\omega_c}\\right) + \\zeta \\left(s + 1, \\frac{1 + i \\omega_c t}{\\beta \\omega_c}\\right) \\right]\n",
    "\\end{align}\n",
    "\n",
    "where $\\Gamma$ is the Gamma function and\n",
    "\n",
    "\\begin{equation}\n",
    "\\zeta(z, u) \\equiv \\sum_{n=0}^{\\infty} \\frac{1}{(n + u)^z}, \\; u \\neq 0, -1, -2, \\ldots\n",
    "\\end{equation}\n",
    "\n",
    "is the generalized Zeta function. The Ohmic case is given by $s = 1$. Based on the two previous approaches a dedicated ohmic class was created so one can fit via correlation or spectral density in a simple manner\n"
   ]
  },
  {
   "cell_type": "code",
   "execution_count": 7,
   "id": "ac446c0f",
   "metadata": {
    "slideshow": {
     "slide_type": "fragment"
    }
   },
   "outputs": [],
   "source": [
    "obs=OhmicBath(T=1,Q=sigmax(),alpha=0.05,wc=1,s=1)"
   ]
  },
  {
   "cell_type": "code",
   "execution_count": 8,
   "id": "896574c5",
   "metadata": {
    "slideshow": {
     "slide_type": "skip"
    }
   },
   "outputs": [
    {
     "data": {
      "text/html": [
       "<style>.container { width:90% !important; }</style>"
      ],
      "text/plain": [
       "<IPython.core.display.HTML object>"
      ]
     },
     "metadata": {},
     "output_type": "display_data"
    }
   ],
   "source": [
    "from IPython.display import display, HTML\n",
    "display(HTML(\"<style>.container { width:90% !important; }</style>\"))"
   ]
  },
  {
   "cell_type": "code",
   "execution_count": 9,
   "id": "b05d1312",
   "metadata": {
    "slideshow": {
     "slide_type": "fragment"
    }
   },
   "outputs": [],
   "source": [
    "t=np.linspace(0.001,10,1000)"
   ]
  },
  {
   "cell_type": "code",
   "execution_count": 10,
   "id": "86bc552a",
   "metadata": {
    "scrolled": false,
    "slideshow": {
     "slide_type": "slide"
    }
   },
   "outputs": [
    {
     "name": "stdout",
     "output_type": "stream",
     "text": [
      "Fit correlation class instance: \n",
      " \n",
      "Result of fitting The Real Part Of                                      |Result of fitting The Imaginary Part                                    \n",
      " the Correlation Function with 5 terms:                                 | Of the Correlation Function with 5 terms:                              \n",
      "                                                                        |                                                                        \n",
      " Parameters|    a     |    b     |    c                                 | Parameters|    a     |    b     |    c                                 \n",
      " 1         |-1.71e-01 |-4.22e-01 |6.51e-02                              | 1         |-3.32e-03 |-8.49e-01 |2.66e+00                              \n",
      " 2         | 1.88e-01 |-4.40e-01 |1.74e-04                              | 2         |-5.92e-03 |-7.98e-01 |1.76e+00                              \n",
      " 3         |-6.65e-01 |-3.37e+00 |1.18e+00                              | 3         |-1.43e-03 |-9.38e-01 |3.79e+00                              \n",
      " 4         | 2.49e-01 |-3.15e+00 |1.72e+00                              | 4         |-1.29e-02 |-7.05e-01 |2.58e-01                              \n",
      " 5         | 4.35e-01 |-3.32e+00 |1.21e-03                              | 5         |-8.74e-03 |-7.52e-01 |9.98e-01                              \n",
      "                                                                        |                                                                        \n",
      "A  normalized RMSE of  3.29e-06 was obtained for the The Real Part Of   |A  normalized RMSE of  1.31e-04 was obtained for the The Imaginary Part \n",
      " the Correlation Function                                               | Of the Correlation Function                                            \n",
      " The current fit took  13.992354 seconds                                | The current fit took  1.290689 seconds                                 \n",
      "\n"
     ]
    }
   ],
   "source": [
    "Cbath,fitinfo=obs.make_correlation_fit(t,Nr=5,Ni=5)\n",
    "print(fitinfo['summary'])"
   ]
  },
  {
   "cell_type": "code",
   "execution_count": 11,
   "id": "14273947",
   "metadata": {
    "slideshow": {
     "slide_type": "fragment"
    }
   },
   "outputs": [
    {
     "name": "stdout",
     "output_type": "stream",
     "text": [
      "Result of fitting The Spectral Density with None terms: \n",
      " \n",
      " Parameters|   lam    |  gamma   |   w0 \n",
      " 1         |-7.77e-01 | 1.64e+00 |3.25e-01\n",
      " 2         | 9.00e-01 | 1.70e+00 |1.00e-01\n",
      " 3         |-6.06e-02 | 4.29e+00 |4.21e+00\n",
      " 4         | 3.74e-04 | 3.86e-01 |1.00e-01\n",
      " \n",
      "A  normalized RMSE of  9.14e-06 was obtained for the The Spectral Density\n",
      " The current fit took  29.720914 seconds\n"
     ]
    }
   ],
   "source": [
    "w=np.linspace(0,25,2000)\n",
    "Sbath,fitinfo=obs.make_spectral_fit(w,rmse=1e-5)\n",
    "print(fitinfo['summary'])"
   ]
  },
  {
   "cell_type": "code",
   "execution_count": 12,
   "id": "de3a9293",
   "metadata": {
    "slideshow": {
     "slide_type": "fragment"
    }
   },
   "outputs": [],
   "source": [
    "Hsys=sigmaz()/2\n",
    "rho0=0.5*Qobj([[1,1],[1,1]])"
   ]
  },
  {
   "cell_type": "code",
   "execution_count": 13,
   "id": "f107846e",
   "metadata": {
    "scrolled": true,
    "slideshow": {
     "slide_type": "fragment"
    }
   },
   "outputs": [
    {
     "name": "stdout",
     "output_type": "stream",
     "text": [
      "10.0%. Run time:   0.01s. Est. time left: 00:00:00:00\n",
      "20.0%. Run time:   0.02s. Est. time left: 00:00:00:00\n",
      "30.1%. Run time:   0.03s. Est. time left: 00:00:00:00\n",
      "40.1%. Run time:   0.04s. Est. time left: 00:00:00:00\n",
      "50.1%. Run time:   0.05s. Est. time left: 00:00:00:00\n",
      "60.1%. Run time:   0.07s. Est. time left: 00:00:00:00\n",
      "70.1%. Run time:   0.08s. Est. time left: 00:00:00:00\n",
      "80.1%. Run time:   0.10s. Est. time left: 00:00:00:00\n",
      "90.2%. Run time:   0.11s. Est. time left: 00:00:00:00\n",
      "100.0%. Run time:   0.12s. Est. time left: 00:00:00:00\n",
      "Total run time:   0.13s\n"
     ]
    }
   ],
   "source": [
    "tlist = np.linspace(0, 10, 600)\n",
    "HEOM_ohmic_spec_fit = HEOMSolver(Hsys, Sbath, max_depth=3)\n",
    "results_ohmic_spec_fit = (HEOM_ohmic_spec_fit.run(rho0, tlist))"
   ]
  },
  {
   "cell_type": "code",
   "execution_count": 14,
   "id": "a25e03bc",
   "metadata": {
    "slideshow": {
     "slide_type": "skip"
    }
   },
   "outputs": [
    {
     "name": "stdout",
     "output_type": "stream",
     "text": [
      "10.0%. Run time:   0.03s. Est. time left: 00:00:00:00\n",
      "20.0%. Run time:   0.05s. Est. time left: 00:00:00:00\n",
      "30.1%. Run time:   0.07s. Est. time left: 00:00:00:00\n",
      "40.1%. Run time:   0.10s. Est. time left: 00:00:00:00\n",
      "50.1%. Run time:   0.12s. Est. time left: 00:00:00:00\n",
      "60.1%. Run time:   0.15s. Est. time left: 00:00:00:00\n",
      "70.1%. Run time:   0.17s. Est. time left: 00:00:00:00\n",
      "80.1%. Run time:   0.20s. Est. time left: 00:00:00:00\n",
      "90.2%. Run time:   0.23s. Est. time left: 00:00:00:00\n",
      "100.0%. Run time:   0.25s. Est. time left: 00:00:00:00\n",
      "Total run time:   0.25s\n"
     ]
    }
   ],
   "source": [
    "HEOM_ohmic_corr_fit = HEOMSolver(Hsys, Cbath, max_depth=3)\n",
    "results_ohmic_corr_fit = (HEOM_ohmic_corr_fit.run(rho0, tlist))"
   ]
  },
  {
   "cell_type": "code",
   "execution_count": 27,
   "id": "4ef7add0",
   "metadata": {},
   "outputs": [],
   "source": [
    "P11p=(sigmaz()+1)/2\n",
    "P12p=sigmap()"
   ]
  },
  {
   "cell_type": "code",
   "execution_count": 28,
   "id": "4a042112",
   "metadata": {
    "slideshow": {
     "slide_type": "slide"
    }
   },
   "outputs": [
    {
     "data": {
      "image/png": "[encoded data removed]",
      "text/plain": [
       "<Figure size 640x480 with 1 Axes>"
      ]
     },
     "metadata": {},
     "output_type": "display_data"
    }
   ],
   "source": [
    "expc=np.real(expect(results_ohmic_corr_fit.states,P11p))\n",
    "exps=np.real(expect(results_ohmic_spec_fit.states,P11p))\n",
    "plt.plot(results_ohmic_corr_fit.times,exps)\n",
    "plt.plot(results_ohmic_corr_fit.times,expc,'-.')\n",
    "plt.show()"
   ]
  },
  {
   "cell_type": "code",
   "execution_count": 49,
   "id": "49a61347",
   "metadata": {
    "slideshow": {
     "slide_type": "fragment"
    }
   },
   "outputs": [
    {
     "data": {
      "image/png": "[encoded data removed]",
      "text/plain": [
       "<Figure size 640x480 with 1 Axes>"
      ]
     },
     "metadata": {},
     "output_type": "display_data"
    }
   ],
   "source": [
    "expc=np.real(expect(results_ohmic_corr_fit.states,P12p))\n",
    "exps=np.real(expect(results_ohmic_spec_fit.states,P12p))\n",
    "plt.plot(results_ohmic_corr_fit.times,exps)\n",
    "plt.plot(results_ohmic_corr_fit.times,expc,'-.')\n",
    "plt.show()"
   ]
  },
  {
   "cell_type": "markdown",
   "id": "46c6dfb3",
   "metadata": {
    "slideshow": {
     "slide_type": "slide"
    }
   },
   "source": [
    "#### The AAA algorithm\n",
    "\n",
    "It is a recently introduced algorithm to approximate functions by a rational function on a real or complex set of points. It has been rapidly adopted by the [mathematical community](https://arxiv.org/pdf/2312.03565.pdf) . In the AAA algorithm the function is approximated by the so called barycentric formula\n",
    "\n",
    "\n",
    "\\begin{equation}\n",
    "r(z)= \\frac{\\sum_{j=1}^{m}\\frac{w_{j} f_{j}}{z-z_{j}}}{\\sum_{j=1}^{m}\\frac{w_{j}}{z-z_{j}}} \\approx \\sum_{k} \\frac{Residues_{k}}{z-Poles_{k}}\n",
    "\\end{equation}\n",
    "\n",
    "where $w_{j}$ are the weights determined by the algorithm, z are the distinc support points (elements on the grid where we fit) and $f_{j}$ is the function evaluated at $f_{j}$\n",
    "\n",
    "#### Advantages:\n",
    "\n",
    "- Does not require any initial guess, or bounds\n",
    "- Procedure is straightforward, not much tuning needed as opposed to least squares, all that is tuned is tolerance and the support points\n",
    "- It is the best or near best approximation to functions on a subset (similar to Pade being the best approximation of a function at a given order)\n",
    "- Relatively Fast\n",
    "\n",
    "### Cons\n",
    "\n",
    "- Sensitive to the choice of support points for problems of interest in Open quantum systems, logaritmic spacing is advised\n",
    "- Consumes way Too much ram to get adeaquate exponents for HEOM"
   ]
  },
  {
   "cell_type": "markdown",
   "id": "6a063366",
   "metadata": {
    "slideshow": {
     "slide_type": "slide"
    }
   },
   "source": [
    "##### Why a Good fit in Spectrum may not be suitable for the HEOM Solver?\n",
    "\n",
    "If we assume the correlation function is given by a series of decaying exponentials, then the spectrum is given by:\n",
    "\n",
    "$$S(w)= \\sum_{k} \\frac{C_{k}}{\\nu_{k}-i \\omega} + C.C$$\n",
    "\n",
    "So by direct comparison one obtains\n",
    "\n",
    "$$C_{k}= -i Residues$$\n",
    "$$\\nu_{k}= i Poles$$"
   ]
  },
  {
   "cell_type": "code",
   "execution_count": 35,
   "id": "b5c1acb4",
   "metadata": {
    "slideshow": {
     "slide_type": "subslide"
    }
   },
   "outputs": [],
   "source": [
    "import scipy as sp\n",
    "def aaa(F, Z, tol=1e-13, mmax=100):\n",
    "\n",
    "    if ~ (type(F)==np.array):\n",
    "        F = F(Z)\n",
    "    M =len(Z)\n",
    "    J = list(range(0,M))\n",
    "    z = np.empty(0)\n",
    "    f = np.empty(0)\n",
    "    C = []\n",
    "    errors = []\n",
    "    R = np.mean(F) * np.ones_like(F)\n",
    "    for m in range(mmax):\n",
    "        # find largest residual\n",
    "        j = np.argmax(abs(F - R))\n",
    "        z = np.append(z, Z[j])\n",
    "        f = np.append(f, F[j])\n",
    "        try:\n",
    "            J.remove(j)\n",
    "        except:\n",
    "            pass\n",
    "\n",
    "        # Cauchy matrix containing the basis functions as columns\n",
    "        C = 1.0 / (Z[J,None] - z[None,:])\n",
    "        # Loewner matrix\n",
    "        A = (F[J,None] - f[None,:]) * C\n",
    "\n",
    "        # compute weights as right singular vector for smallest singular value\n",
    "        _, _, Vh = np.linalg.svd(A)\n",
    "        wj = Vh[-1, :].conj()\n",
    "\n",
    "\n",
    "        # approximation: numerator / denominator\n",
    "        N = C.dot(wj * f)\n",
    "        D = C.dot(wj)\n",
    "\n",
    "        # update residual\n",
    "        R = F.copy()\n",
    "        R[J] = N / D\n",
    "\n",
    "        # check for convergence\n",
    "        errors.append(np.linalg.norm(F - R, np.inf))\n",
    "        if errors[-1] <= tol * np.linalg.norm(F, np.inf):\n",
    "            break\n",
    "    r= lambda x: approximated_function(x,z,f,wj)\n",
    "    #return z,f,wj\n",
    "    pol,res,zer=prz(z,f,wj)\n",
    "    return r,pol,res,zer\n",
    "def approximated_function(zz,z,f,w,need=False):\n",
    "    # evaluate r at zz\n",
    "    zv = np.ravel(zz)  # vectorize zz\n",
    "\n",
    "    # Cauchy matrix\n",
    "    CC = 1 / (np.subtract.outer(zv, z))\n",
    "\n",
    "    # AAA approximation as vector\n",
    "    r = np.dot(CC, w * f) / np.dot(CC, w)\n",
    "    if need is True:\n",
    "        return np.dot(CC, w * f),np.dot(CC, w * f)\n",
    "    # Find values NaN = Inf/Inf if any\n",
    "    ii = np.isnan(r)\n",
    "\n",
    "    # Force interpolation at NaN points\n",
    "    for j in np.where(ii)[0]:\n",
    "        r[j] = f[np.where(zv[j] == z)[0][0]]\n",
    "\n",
    "    # Reshape the result to match the shape of zz\n",
    "    r = r.reshape(zz.shape)\n",
    "    return r\n",
    "\n",
    "def prz(z,f,w):\n",
    "    m=len(w)\n",
    "    B=np.eye(m+1)\n",
    "    B[0,0]=0\n",
    "    E = np.block([[0,w],[np.ones((m,1)),np.diag(z)]])\n",
    "    eigvals=sp.linalg.eig(E,B)[0]\n",
    "    pol= np.real_if_close(eigvals[np.isfinite(eigvals)])#eigvals[~np.isinf(eigvals)] #remove singularities\n",
    "    # Get residues from quotients, in the paper they use a little shift \n",
    "    # but I coudn't broadcast it correctly\n",
    "    C=1.0/(pol[:,None]-z[None,:])\n",
    "    N=C.dot(f*w)\n",
    "    D=(-C**2).dot(w) #Derivative, formula for simple poles see Zill complex analysis\n",
    "    res=N/D\n",
    "    ez=np.block([[0,w],[f[:,None],np.diag(z)]])\n",
    "    eigvals_zeros=sp.linalg.eig(ez,B)[0]\n",
    "    zer= eigvals_zeros[~np.isinf(eigvals_zeros)]\n",
    "    return pol,res,zer\n",
    "\n"
   ]
  },
  {
   "cell_type": "code",
   "execution_count": 36,
   "id": "4556929e",
   "metadata": {
    "slideshow": {
     "slide_type": "skip"
    }
   },
   "outputs": [],
   "source": [
    "def bose_einstein(w,T):\n",
    "    \"\"\"\n",
    "    Calculates the bose einstein distribution for the\n",
    "    temperature of the bath\n",
    "\n",
    "    Parameters\n",
    "    ----------\n",
    "    w: float or array\n",
    "        Energy of the mode\n",
    "\n",
    "    Returns\n",
    "    ----------\n",
    "    The population of the mode with energy w\n",
    "    \"\"\"\n",
    "    w = np.array(w, dtype=float)\n",
    "    return 1 / (np.exp(w /T) - 1)\n",
    "def filter_poles(pol,res):\n",
    "    pols=[]\n",
    "    ress=[]\n",
    "    for i in range(len(pol)):\n",
    "        if (np.imag(pol[i])<0):\n",
    "            pols.append(pol[i])\n",
    "            ress.append(res[i])\n",
    "    return np.array(pols),np.array(ress)"
   ]
  },
  {
   "cell_type": "code",
   "execution_count": 37,
   "id": "ab3fc806",
   "metadata": {
    "slideshow": {
     "slide_type": "slide"
    }
   },
   "outputs": [],
   "source": [
    "FF=lambda Z:obs.spectral_density(Z+0j)*2*(bose_einstein(Z,obs.T)+1)"
   ]
  },
  {
   "cell_type": "code",
   "execution_count": 87,
   "id": "8ae4a5cb",
   "metadata": {
    "slideshow": {
     "slide_type": "fragment"
    }
   },
   "outputs": [],
   "source": [
    "Z=np.concatenate((-np.logspace(2,-8,1500),np.logspace(-2,3,1500)))\n",
    "#Z=np.linspace(-100,100,5000)\n"
   ]
  },
  {
   "cell_type": "code",
   "execution_count": 90,
   "id": "be7b8fd8",
   "metadata": {
    "slideshow": {
     "slide_type": "fragment"
    }
   },
   "outputs": [],
   "source": [
    "r,pol,res,zer=aaa(FF,Z,tol=1e-8)"
   ]
  },
  {
   "cell_type": "code",
   "execution_count": 91,
   "id": "b163de3b",
   "metadata": {
    "slideshow": {
     "slide_type": "fragment"
    }
   },
   "outputs": [],
   "source": [
    "new_pols,new_res=filter_poles(pol,res)\n",
    "ckAR,ckAI=np.real(-1j*new_res),np.imag(-1j*new_res)\n",
    "vkAR,vkAI=np.real(1j*new_pols),np.imag(1j*new_pols)\n",
    "aaabath=BosonicBath(sigmax(),ckAR,vkAR+1j*vkAI,ckAI,vkAR+1j*vkAI)"
   ]
  },
  {
   "cell_type": "code",
   "execution_count": 92,
   "id": "0e472fb6",
   "metadata": {
    "slideshow": {
     "slide_type": "slide"
    }
   },
   "outputs": [
    {
     "name": "stdout",
     "output_type": "stream",
     "text": [
      "10.0%. Run time:   0.07s. Est. time left: 00:00:00:00\n",
      "20.0%. Run time:   0.17s. Est. time left: 00:00:00:00\n",
      "30.1%. Run time:   0.29s. Est. time left: 00:00:00:00\n",
      "40.1%. Run time:   0.39s. Est. time left: 00:00:00:00\n",
      "50.1%. Run time:   0.49s. Est. time left: 00:00:00:00\n",
      "60.1%. Run time:   0.59s. Est. time left: 00:00:00:00\n",
      "70.1%. Run time:   0.69s. Est. time left: 00:00:00:00\n",
      "80.1%. Run time:   0.78s. Est. time left: 00:00:00:00\n",
      "90.2%. Run time:   0.88s. Est. time left: 00:00:00:00\n",
      "100.0%. Run time:   0.98s. Est. time left: 00:00:00:00\n",
      "Total run time:   0.98s\n"
     ]
    }
   ],
   "source": [
    "HeOM_aaa = HEOMSolver(Hsys, aaabath, max_depth=3)\n",
    "result_aaa=HeOM_aaa.run(rho0,tlist)"
   ]
  },
  {
   "cell_type": "code",
   "execution_count": 93,
   "id": "435867c9",
   "metadata": {
    "slideshow": {
     "slide_type": "fragment"
    }
   },
   "outputs": [
    {
     "data": {
      "image/png": "[encoded data removed]",
      "text/plain": [
       "<Figure size 640x480 with 1 Axes>"
      ]
     },
     "metadata": {},
     "output_type": "display_data"
    }
   ],
   "source": [
    "expc=np.real(expect(results_ohmic_corr_fit.states,P12p))\n",
    "expa=np.real(expect(result_aaa.states,P12p))\n",
    "plt.plot(results_ohmic_corr_fit.times,exps)\n",
    "plt.plot(results_ohmic_corr_fit.times,expc,'-.')\n",
    "plt.plot(results_ohmic_corr_fit.times,expa,'-.')\n",
    "plt.show()"
   ]
  },
  {
   "cell_type": "code",
   "execution_count": 96,
   "id": "153cbe44",
   "metadata": {},
   "outputs": [
    {
     "data": {
      "image/png": "[encoded data removed]",
      "text/plain": [
       "<Figure size 640x480 with 1 Axes>"
      ]
     },
     "metadata": {},
     "output_type": "display_data"
    }
   ],
   "source": [
    "expc=np.real(expect(results_ohmic_corr_fit.states,P11p))\n",
    "exps=np.real(expect(results_ohmic_spec_fit.states,P11p))\n",
    "expa=np.real(expect(result_aaa.states,P11p))\n",
    "plt.plot(results_ohmic_corr_fit.times,exps)\n",
    "plt.plot(results_ohmic_corr_fit.times,expc,'-.')\n",
    "plt.plot(results_ohmic_corr_fit.times,expa,'-.')\n",
    "plt.show()\n",
    "# change for original setup"
   ]
  },
  {
   "cell_type": "markdown",
   "id": "2f3b838d",
   "metadata": {
    "slideshow": {
     "slide_type": "slide"
    }
   },
   "source": [
    "# A fairer comparison would be on an overdamped spectral density"
   ]
  },
  {
   "cell_type": "code",
   "execution_count": 97,
   "id": "c29b9809",
   "metadata": {
    "slideshow": {
     "slide_type": "fragment"
    }
   },
   "outputs": [
    {
     "ename": "KeyboardInterrupt",
     "evalue": "",
     "output_type": "error",
     "traceback": [
      "\u001b[0;31m---------------------------------------------------------------------------\u001b[0m",
      "\u001b[0;31mKeyboardInterrupt\u001b[0m                         Traceback (most recent call last)",
      "Cell \u001b[0;32mIn[97], line 3\u001b[0m\n\u001b[1;32m      1\u001b[0m dbath \u001b[38;5;241m=\u001b[39m DrudeLorentzBath(Q\u001b[38;5;241m=\u001b[39msigmax(), lam\u001b[38;5;241m=\u001b[39m\u001b[38;5;241m0.05\u001b[39m, gamma\u001b[38;5;241m=\u001b[39m\u001b[38;5;241m5\u001b[39m, T\u001b[38;5;241m=\u001b[39m\u001b[38;5;241m10\u001b[39m, Nk\u001b[38;5;241m=\u001b[39m\u001b[38;5;241m14\u001b[39m)\n\u001b[1;32m      2\u001b[0m F\u001b[38;5;241m=\u001b[39m \u001b[38;5;28;01mlambda\u001b[39;00m w: \u001b[38;5;241m2\u001b[39m\u001b[38;5;241m*\u001b[39mdbath\u001b[38;5;241m.\u001b[39mspectral_density(w)\u001b[38;5;241m*\u001b[39m(\u001b[38;5;241m1\u001b[39m\u001b[38;5;241m/\u001b[39m(np\u001b[38;5;241m.\u001b[39mexp(w\u001b[38;5;241m/\u001b[39mdbath\u001b[38;5;241m.\u001b[39mT)\u001b[38;5;241m-\u001b[39m\u001b[38;5;241m1\u001b[39m) \u001b[38;5;241m+\u001b[39m\u001b[38;5;241m1\u001b[39m)\n\u001b[0;32m----> 3\u001b[0m r,pol,res,zer\u001b[38;5;241m=\u001b[39m\u001b[43maaa\u001b[49m\u001b[43m(\u001b[49m\u001b[43mF\u001b[49m\u001b[43m,\u001b[49m\u001b[43mZ\u001b[49m\u001b[43m,\u001b[49m\u001b[43mtol\u001b[49m\u001b[38;5;241;43m=\u001b[39;49m\u001b[38;5;241;43m1e-13\u001b[39;49m\u001b[43m)\u001b[49m\n",
      "Cell \u001b[0;32mIn[35], line 29\u001b[0m, in \u001b[0;36maaa\u001b[0;34m(F, Z, tol, mmax)\u001b[0m\n\u001b[1;32m     26\u001b[0m A \u001b[38;5;241m=\u001b[39m (F[J,\u001b[38;5;28;01mNone\u001b[39;00m] \u001b[38;5;241m-\u001b[39m f[\u001b[38;5;28;01mNone\u001b[39;00m,:]) \u001b[38;5;241m*\u001b[39m C\n\u001b[1;32m     28\u001b[0m \u001b[38;5;66;03m# compute weights as right singular vector for smallest singular value\u001b[39;00m\n\u001b[0;32m---> 29\u001b[0m _, _, Vh \u001b[38;5;241m=\u001b[39m \u001b[43mnp\u001b[49m\u001b[38;5;241;43m.\u001b[39;49m\u001b[43mlinalg\u001b[49m\u001b[38;5;241;43m.\u001b[39;49m\u001b[43msvd\u001b[49m\u001b[43m(\u001b[49m\u001b[43mA\u001b[49m\u001b[43m)\u001b[49m\n\u001b[1;32m     30\u001b[0m wj \u001b[38;5;241m=\u001b[39m Vh[\u001b[38;5;241m-\u001b[39m\u001b[38;5;241m1\u001b[39m, :]\u001b[38;5;241m.\u001b[39mconj()\n\u001b[1;32m     33\u001b[0m \u001b[38;5;66;03m# approximation: numerator / denominator\u001b[39;00m\n",
      "File \u001b[0;32m~/miniconda3/envs/nm/lib/python3.9/site-packages/numpy/linalg/linalg.py:1681\u001b[0m, in \u001b[0;36msvd\u001b[0;34m(a, full_matrices, compute_uv, hermitian)\u001b[0m\n\u001b[1;32m   1678\u001b[0m         gufunc \u001b[38;5;241m=\u001b[39m _umath_linalg\u001b[38;5;241m.\u001b[39msvd_n_s\n\u001b[1;32m   1680\u001b[0m signature \u001b[38;5;241m=\u001b[39m \u001b[38;5;124m'\u001b[39m\u001b[38;5;124mD->DdD\u001b[39m\u001b[38;5;124m'\u001b[39m \u001b[38;5;28;01mif\u001b[39;00m isComplexType(t) \u001b[38;5;28;01melse\u001b[39;00m \u001b[38;5;124m'\u001b[39m\u001b[38;5;124md->ddd\u001b[39m\u001b[38;5;124m'\u001b[39m\n\u001b[0;32m-> 1681\u001b[0m u, s, vh \u001b[38;5;241m=\u001b[39m \u001b[43mgufunc\u001b[49m\u001b[43m(\u001b[49m\u001b[43ma\u001b[49m\u001b[43m,\u001b[49m\u001b[43m \u001b[49m\u001b[43msignature\u001b[49m\u001b[38;5;241;43m=\u001b[39;49m\u001b[43msignature\u001b[49m\u001b[43m,\u001b[49m\u001b[43m \u001b[49m\u001b[43mextobj\u001b[49m\u001b[38;5;241;43m=\u001b[39;49m\u001b[43mextobj\u001b[49m\u001b[43m)\u001b[49m\n\u001b[1;32m   1682\u001b[0m u \u001b[38;5;241m=\u001b[39m u\u001b[38;5;241m.\u001b[39mastype(result_t, copy\u001b[38;5;241m=\u001b[39m\u001b[38;5;28;01mFalse\u001b[39;00m)\n\u001b[1;32m   1683\u001b[0m s \u001b[38;5;241m=\u001b[39m s\u001b[38;5;241m.\u001b[39mastype(_realType(result_t), copy\u001b[38;5;241m=\u001b[39m\u001b[38;5;28;01mFalse\u001b[39;00m)\n",
      "\u001b[0;31mKeyboardInterrupt\u001b[0m: "
     ]
    }
   ],
   "source": [
    "dbath = DrudeLorentzBath(Q=sigmax(), lam=0.05, gamma=5, T=10, Nk=14)\n",
    "F= lambda w: 2*dbath.spectral_density(w)*(1/(np.exp(w/dbath.T)-1) +1)\n",
    "r,pol,res,zer=aaa(F,Z,tol=1e-13)"
   ]
  },
  {
   "cell_type": "code",
   "execution_count": null,
   "id": "9a650ff1",
   "metadata": {
    "slideshow": {
     "slide_type": "fragment"
    }
   },
   "outputs": [],
   "source": [
    "new_pols,new_res=filter_poles(pol,res)\n",
    "ckAR,ckAI=np.real(-1j*new_res),np.imag(-1j*new_res)\n",
    "vkAR,vkAI=np.real(1j*new_pols),np.imag(1j*new_pols)"
   ]
  },
  {
   "cell_type": "code",
   "execution_count": null,
   "id": "0f63dd19",
   "metadata": {
    "slideshow": {
     "slide_type": "skip"
    }
   },
   "outputs": [],
   "source": [
    "w=np.linspace(0,50,1000)"
   ]
  },
  {
   "cell_type": "code",
   "execution_count": null,
   "id": "c85e7ca6",
   "metadata": {
    "slideshow": {
     "slide_type": "fragment"
    }
   },
   "outputs": [],
   "source": [
    "fsd=SpectralFitter(T=dbath.T,Q=sigmax(),w=w,J=lambda w:dbath.spectral_density(w),Nk=5)\n",
    "baths,fitinfo=fsd.get_fit(N=8)\n",
    "print(fitinfo['summary'])"
   ]
  },
  {
   "cell_type": "code",
   "execution_count": null,
   "id": "4732f4e8",
   "metadata": {
    "slideshow": {
     "slide_type": "slide"
    }
   },
   "outputs": [],
   "source": [
    "csd=CorrelationFitter(T=dbath.T,Q=sigmax(),t=np.linspace(0.1,50,1000),C=dbath.correlation_function)\n",
    "bathc,fitinfo=csd.get_fit(Ni=4,Nr=4)\n",
    "print(fitinfo['summary'])"
   ]
  },
  {
   "cell_type": "code",
   "execution_count": null,
   "id": "eeae64b2",
   "metadata": {
    "slideshow": {
     "slide_type": "fragment"
    }
   },
   "outputs": [],
   "source": [
    "tlist=np.linspace(0,15,500)\n",
    "aaaBathd=BosonicBath(sigmax(),ckAR,vkAR+1j*vkAI,ckAI,vkAR+1j*vkAI)\n",
    "HeOM_aaad = HEOMSolver(Hsys, aaaBathd, max_depth=3)\n",
    "result_aaad=HeOM_aaad.run(rho0,tlist)"
   ]
  },
  {
   "cell_type": "code",
   "execution_count": null,
   "id": "bc21d03d",
   "metadata": {
    "slideshow": {
     "slide_type": "fragment"
    }
   },
   "outputs": [],
   "source": [
    "HEOM_g = HEOMSolver(Hsys, dbath, max_depth=3)\n",
    "result=HEOM_g.run(rho0,tlist)"
   ]
  },
  {
   "cell_type": "code",
   "execution_count": null,
   "id": "f9065b2f",
   "metadata": {
    "slideshow": {
     "slide_type": "skip"
    }
   },
   "outputs": [],
   "source": [
    "HEOM_s = HEOMSolver(Hsys, baths, max_depth=3)\n",
    "result_s=HEOM_s.run(rho0,tlist)"
   ]
  },
  {
   "cell_type": "code",
   "execution_count": null,
   "id": "f1317f50",
   "metadata": {
    "slideshow": {
     "slide_type": "skip"
    }
   },
   "outputs": [],
   "source": [
    "HEOM_c = HEOMSolver(Hsys, bathc, max_depth=3)\n",
    "result_c=HEOM_c.run(rho0,tlist)"
   ]
  },
  {
   "cell_type": "code",
   "execution_count": null,
   "id": "a4fa74bb",
   "metadata": {
    "slideshow": {
     "slide_type": "slide"
    }
   },
   "outputs": [],
   "source": [
    "expc=np.real(expect(result.states,P12p))\n",
    "expa=np.real(expect(result_aaad.states,P12p))\n",
    "exps=np.real(expect(result_s.states,P12p))\n",
    "expcc=np.real(expect(result_c.states,P12p))\n",
    "plt.plot(result.times,expc,label='Matsubara Decomposition')\n",
    "plt.plot(result.times,expa,'-.',label='AAA Fit')\n",
    "plt.scatter(result.times,exps,s=20,color='g',marker='x',label='Spectral Fit')\n",
    "plt.scatter(result.times,exps,s=10,color='r',label='Correlation Fit')\n",
    "plt.legend()\n",
    "plt.show()"
   ]
  },
  {
   "cell_type": "code",
   "execution_count": null,
   "id": "afdb6ed2",
   "metadata": {
    "slideshow": {
     "slide_type": "slide"
    }
   },
   "outputs": [],
   "source": [
    "expc=np.real(expect(result.states,P11p))\n",
    "expa=np.real(expect(result_aaad.states,P11p))\n",
    "exps=np.real(expect(result_s.states,P11p))\n",
    "expcc=np.real(expect(result_c.states,P11p))\n",
    "plt.plot(result.times,expc,label='Matsubara Decomposition')\n",
    "plt.plot(result.times,expa,'-.',label='AAA Fit')\n",
    "plt.scatter(result.times,exps,s=20,color='g',marker='x',label='Spectral Fit')\n",
    "plt.scatter(result.times,exps,s=10,color='r',label='Correlation Fit')\n",
    "plt.legend()\n",
    "plt.show()"
   ]
  },
  {
   "cell_type": "markdown",
   "id": "fed29983",
   "metadata": {
    "slideshow": {
     "slide_type": "slide"
    }
   },
   "source": [
    "# New properties for Bosonic Baths\n",
    "\n",
    "\n",
    "Now one is able to obtain the approximation used in HEOM and the real quantities for the following charaterisctics of the bath, this is specially useful to know wheter one is using an adequate number of exponents, while not critical for higher Temperature simulations, it becomes extremely important for low Temperature baths\n"
   ]
  },
  {
   "cell_type": "code",
   "execution_count": 72,
   "id": "45411e10",
   "metadata": {
    "slideshow": {
     "slide_type": "fragment"
    }
   },
   "outputs": [],
   "source": [
    "bathu = UnderDampedBath(Q=sigmax(), lam=0.5, gamma=1, T=0.1, Nk=1,w0=1)\n",
    "C=bathu.correlation_function(tlist)"
   ]
  },
  {
   "cell_type": "code",
   "execution_count": 73,
   "id": "c7bffd8a",
   "metadata": {
    "slideshow": {
     "slide_type": "skip"
    }
   },
   "outputs": [],
   "source": [
    "from ipywidgets import interact, interactive, fixed, interact_manual\n",
    "import ipywidgets as widgets"
   ]
  },
  {
   "cell_type": "code",
   "execution_count": 75,
   "id": "2fb407a8",
   "metadata": {
    "slideshow": {
     "slide_type": "fragment"
    }
   },
   "outputs": [
    {
     "data": {
      "application/vnd.jupyter.widget-view+json": {
       "model_id": "f5ea49fcc6584a35ad7f8290ffa7fb6f",
       "version_major": 2,
       "version_minor": 0
      },
      "text/plain": [
       "interactive(children=(IntSlider(value=1, description='x', min=1), Output()), _dom_classes=('widget-interact',)…"
      ]
     },
     "metadata": {},
     "output_type": "display_data"
    }
   ],
   "source": [
    "@interact(x=(1,100))\n",
    "def corr_approx_plot(x=1):\n",
    "    fig, (ax1, ax2) = plt.subplots(2, 1, layout='constrained')\n",
    "    bath = UnderDampedBath(Q=sigmax(), lam=0.5, gamma=1, T=0.01, Nk=x,w0=1)\n",
    "    ax1.plot(tlist,C)\n",
    "    ax1.plot(tlist,bath.correlation_function_approx(tlist),'-.')\n",
    "    ax2.plot(tlist,np.imag(C))\n",
    "    ax2.plot(tlist,np.imag(bath.correlation_function_approx(tlist)),'-.')\n",
    "    \n",
    "    return plt.show()"
   ]
  },
  {
   "cell_type": "code",
   "execution_count": 58,
   "id": "218cdcbb",
   "metadata": {
    "slideshow": {
     "slide_type": "slide"
    }
   },
   "outputs": [
    {
     "data": {
      "application/vnd.jupyter.widget-view+json": {
       "model_id": "75276f819a8145049f158ea32984379a",
       "version_major": 2,
       "version_minor": 0
      },
      "text/plain": [
       "interactive(children=(IntSlider(value=1, description='x', min=1), Output()), _dom_classes=('widget-interact',)…"
      ]
     },
     "metadata": {},
     "output_type": "display_data"
    }
   ],
   "source": [
    "@interact(x=(1,100))\n",
    "def spec_approx_plot(x=1):\n",
    "    w=np.linspace(0,10,1000)\n",
    "    bath = UnderDampedBath(Q=sigmax(), lam=0.5, gamma=1, T=0.01, Nk=x,w0=1)\n",
    "    plt.plot(w,bath.spectral_density(w))\n",
    "    plt.plot(w,bath.spectral_density_approx(w),'-.')\n",
    "    return plt.show()"
   ]
  },
  {
   "cell_type": "code",
   "execution_count": 59,
   "id": "ae38367f",
   "metadata": {
    "slideshow": {
     "slide_type": "slide"
    }
   },
   "outputs": [
    {
     "data": {
      "application/vnd.jupyter.widget-view+json": {
       "model_id": "a4590a72a9b44c1fb62c75c1c65e2319",
       "version_major": 2,
       "version_minor": 0
      },
      "text/plain": [
       "interactive(children=(IntSlider(value=1, description='x', max=50, min=1), Output()), _dom_classes=('widget-int…"
      ]
     },
     "metadata": {},
     "output_type": "display_data"
    }
   ],
   "source": [
    "@interact(x=(1,50))\n",
    "def spectrum_approx_plot(x=1):\n",
    "    w=np.linspace(-10,10,1000)\n",
    "    bath = UnderDampedBath(Q=sigmax(), lam=0.5, gamma=1, T=0.01, Nk=x,w0=1)\n",
    "    plt.plot(w,bath.power_spectrum(w))\n",
    "    plt.plot(w,bath.power_spectrum_approx(w),'-.')\n",
    "    return plt.show()"
   ]
  },
  {
   "cell_type": "markdown",
   "id": "81018666",
   "metadata": {},
   "source": [
    "# Benchmarks of the cumulant equation"
   ]
  },
  {
   "cell_type": "code",
   "execution_count": null,
   "id": "97f5d86d",
   "metadata": {},
   "outputs": [],
   "source": []
  }
 ],
 "metadata": {
  "celltoolbar": "Slideshow",
  "kernelspec": {
   "display_name": "Python 3 (ipykernel)",
   "language": "python",
   "name": "python3"
  },
  "language_info": {
   "codemirror_mode": {
    "name": "ipython",
    "version": 3
   },
   "file_extension": ".py",
   "mimetype": "text/x-python",
   "name": "python",
   "nbconvert_exporter": "python",
   "pygments_lexer": "ipython3",
   "version": "3.9.0"
  }
 },
 "nbformat": 4,
 "nbformat_minor": 5
}
